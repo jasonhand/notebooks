{
  "cells": [
    {
      "cell_type": "markdown",
      "source": [
        "#  Generative AI NASA Short Stories With the Gemini Pro Model"
      ],
      "metadata": {
        "id": "UgHJ5WTvCeAl"
      },
      "id": "UgHJ5WTvCeAl"
    },
    {
      "cell_type": "markdown",
      "source": [
        "## Environment Setup\n",
        "Install packages.\n",
        ">Secrets (API keys) are **NOT** used in this demo."
      ],
      "metadata": {
        "id": "FCZxXpOiR-SC"
      },
      "id": "FCZxXpOiR-SC"
    },
    {
      "cell_type": "code",
      "id": "Uu8xHNjWtjxKzC41WDAghpdA",
      "metadata": {
        "tags": [],
        "id": "Uu8xHNjWtjxKzC41WDAghpdA"
      },
      "source": [
        "!pip install --upgrade google-cloud-aiplatform"
      ],
      "execution_count": null,
      "outputs": []
    },
    {
      "cell_type": "markdown",
      "id": "4TjV4bq4aIXKoGURUlYjX30W",
      "metadata": {
        "tags": [],
        "id": "4TjV4bq4aIXKoGURUlYjX30W"
      },
      "source": [
        "## Imports & Variables\n",
        "Set import requirements and set `image_info_url` variable"
      ]
    },
    {
      "cell_type": "code",
      "source": [
        "# Import necessary libraries\n",
        "import requests\n",
        "\n",
        "# URL to fetch the image information\n",
        "image_info_url = \"https://us-central1-datadog-community.cloudfunctions.net/get-nasa-image\"\n",
        "#image_info_url = \"https://us-central1-vertexaiwebinar.cloudfunctions.net/get-nasa-image\""
      ],
      "metadata": {
        "id": "8Q-lriV2yWBZ",
        "executionInfo": {
          "status": "ok",
          "timestamp": 1705531504164,
          "user_tz": 420,
          "elapsed": 256,
          "user": {
            "displayName": "",
            "userId": ""
          }
        }
      },
      "id": "8Q-lriV2yWBZ",
      "execution_count": 38,
      "outputs": []
    },
    {
      "cell_type": "markdown",
      "source": [
        "## Fetch the NASA Image\n",
        "Call a cloud function `image_info_url` from above."
      ],
      "metadata": {
        "id": "LAsAj61BQlvR"
      },
      "id": "LAsAj61BQlvR"
    },
    {
      "cell_type": "code",
      "source": [
        "# Fetch the image URL or text\n",
        "response = requests.get(image_info_url)\n",
        "if response.status_code == 200:\n",
        "    # Print the text returned from the request\n",
        "    print(response.text)  # Displaying the text\n",
        "else:\n",
        "    print(\"Failed to retrieve the image information. Sorry\")"
      ],
      "metadata": {
        "id": "n4aeiK9lQi4t",
        "colab": {
          "base_uri": "https://localhost:8080/"
        },
        "executionInfo": {
          "status": "ok",
          "timestamp": 1705531569240,
          "user_tz": 420,
          "elapsed": 783,
          "user": {
            "displayName": "",
            "userId": ""
          }
        },
        "outputId": "7d5acff1-8c25-4a65-e46e-96d3e76d5981"
      },
      "id": "n4aeiK9lQi4t",
      "execution_count": 39,
      "outputs": [
        {
          "output_type": "stream",
          "name": "stdout",
          "text": [
            "Title: Trifecta at Twilight\n",
            "URL: https://apod.nasa.gov/apod/image/2002/ISS_Moon_Mars_composite1024.jpg\n",
            "Description: On February 18, as civil twilight began in northern New Mexico skies, the International Space Station, a waning crescent Moon, and planet Mars for a moment shared this well-planned single field of view. From the photographer's location the sky had just begun to grow light, but the space station orbiting 400 kilometers above the Earth was already bathed in the morning sunlight. At 6:25am local time it took about a second to cross in front of the lunar disk moving right to left in the composited successive frames. At the time, Mars itself had already emerged from behind the Moon following its much anticipated lunar occultation. The yellowish glow of the Red Planet is still in the frame at the upper right, beyond the Moon's dark edge.\n"
          ]
        }
      ]
    },
    {
      "cell_type": "markdown",
      "source": [
        "## Set the Prompt & Model"
      ],
      "metadata": {
        "id": "RkfcpX_Q4es2"
      },
      "id": "RkfcpX_Q4es2"
    },
    {
      "cell_type": "code",
      "source": [
        "#Model name to use\n",
        "model_name = \"gemini-pro\"\n",
        "\n",
        "#Prompt to send to Vertex AI\n",
        "prompt = \"Write a children's short story based on the text provided. Include at least one fictional character as the hero. Include the original title and image URL at the beginning of the story. Do not provide words that violate Google's Responsible AI practices\"\n",
        "#prompt = \"Write a 100-word PG-rated synopsis of a fictional book based on the image text\""
      ],
      "metadata": {
        "id": "OggdWlaFuaCL",
        "executionInfo": {
          "status": "ok",
          "timestamp": 1705531686661,
          "user_tz": 420,
          "elapsed": 158,
          "user": {
            "displayName": "",
            "userId": ""
          }
        }
      },
      "id": "OggdWlaFuaCL",
      "execution_count": 42,
      "outputs": []
    },
    {
      "cell_type": "markdown",
      "source": [
        "## Fetch Image Info and Send to Model with Prompt\n",
        "Run the following code to import dependencies and make calls to get image url and send the prompt to the model endpoint"
      ],
      "metadata": {
        "id": "z3-vQlk1urMU"
      },
      "id": "z3-vQlk1urMU"
    },
    {
      "cell_type": "code",
      "source": [
        "#Import requests\n",
        "import vertexai\n",
        "from vertexai.preview.generative_models import GenerativeModel, Part\n",
        "\n",
        "# Function to fetch image information from the URL as plain text\n",
        "def fetch_image_info(url):\n",
        "    response = requests.get(url)\n",
        "    if response.status_code == 200:\n",
        "        return response.text  # Return the plain text response\n",
        "    else:\n",
        "        return \"Error: Could not fetch image information\"\n",
        "\n",
        "# Fetching the image information\n",
        "image_info = fetch_image_info(image_info_url)\n",
        "\n",
        "# Generate short story based on image_info\n",
        "def generate(model_name):\n",
        "    model = GenerativeModel(model_name)\n",
        "    full_prompt = prompt + \"\\n\" + image_info  # Combining the user prompt with the image information\n",
        "    responses = model.generate_content(\n",
        "        full_prompt,  # Using the combined prompt\n",
        "        generation_config={\n",
        "            \"max_output_tokens\": 2048,\n",
        "            \"temperature\": 0.98,\n",
        "            \"top_p\": 1\n",
        "        },\n",
        "        stream=True,\n",
        "    )\n",
        "    # Print the generated content\n",
        "    for response in responses:\n",
        "        print(response.candidates[0].content.parts[0].text)\n",
        "\n",
        "# Call the generate function with the user-defined model name\n",
        "generate(model_name)\n"
      ],
      "metadata": {
        "id": "b2dYopgXutqi"
      },
      "id": "b2dYopgXutqi",
      "execution_count": null,
      "outputs": []
    }
  ],
  "metadata": {
    "kernelspec": {
      "display_name": "Python 3",
      "language": "python",
      "name": "python3"
    },
    "language_info": {
      "codemirror_mode": {
        "name": "ipython",
        "version": 3
      },
      "file_extension": ".py",
      "mimetype": "text/x-python",
      "name": "python",
      "nbconvert_exporter": "python",
      "pygments_lexer": "ipython3",
      "version": "3.10.10"
    },
    "colab": {
      "provenance": [],
      "toc_visible": true
    }
  },
  "nbformat": 4,
  "nbformat_minor": 5
}