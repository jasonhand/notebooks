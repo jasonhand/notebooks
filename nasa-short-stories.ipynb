{
  "cells": [
    {
      "cell_type": "markdown",
      "source": [
        "#  Generative AI NASA Short Stories With the Gemini Pro Model"
      ],
      "metadata": {
        "id": "UgHJ5WTvCeAl"
      },
      "id": "UgHJ5WTvCeAl"
    },
    {
      "cell_type": "markdown",
      "source": [
        "## Environment Setup\n",
        "Install packages.\n",
        ">Secrets (API keys) are **NOT** used in this demo."
      ],
      "metadata": {
        "id": "FCZxXpOiR-SC"
      },
      "id": "FCZxXpOiR-SC"
    },
    {
      "cell_type": "code",
      "id": "Uu8xHNjWtjxKzC41WDAghpdA",
      "metadata": {
        "tags": [],
        "id": "Uu8xHNjWtjxKzC41WDAghpdA"
      },
      "source": [
        "!pip install --upgrade google-cloud-aiplatform"
      ],
      "execution_count": null,
      "outputs": []
    },
    {
      "cell_type": "markdown",
      "id": "4TjV4bq4aIXKoGURUlYjX30W",
      "metadata": {
        "tags": [],
        "id": "4TjV4bq4aIXKoGURUlYjX30W"
      },
      "source": [
        "## Imports & Variables\n",
        "Set import requirements and set `image_info_url` variable"
      ]
    },
    {
      "cell_type": "code",
      "source": [
        "# Import necessary libraries\n",
        "import requests\n",
        "\n",
        "# URL to fetch the image information\n",
        "image_info_url = \"https://us-central1-datadog-community.cloudfunctions.net/get-nasa-image\""
      ],
      "metadata": {
        "id": "8Q-lriV2yWBZ",
        "executionInfo": {
          "status": "ok",
          "timestamp": 1707261622463,
          "user_tz": 420,
          "elapsed": 5,
          "user": {
            "displayName": "",
            "userId": ""
          }
        }
      },
      "id": "8Q-lriV2yWBZ",
      "execution_count": 2,
      "outputs": []
    },
    {
      "cell_type": "markdown",
      "source": [
        "## Fetch the NASA Image\n",
        "Call a cloud function `image_info_url` from above."
      ],
      "metadata": {
        "id": "LAsAj61BQlvR"
      },
      "id": "LAsAj61BQlvR"
    },
    {
      "cell_type": "code",
      "source": [
        "# Fetch the image URL or text\n",
        "response = requests.get(image_info_url)\n",
        "if response.status_code == 200:\n",
        "    # Print the text returned from the request\n",
        "    print(response.text)  # Displaying the text\n",
        "else:\n",
        "    print(\"Failed to retrieve the image information. Sorry\")"
      ],
      "metadata": {
        "id": "n4aeiK9lQi4t"
      },
      "id": "n4aeiK9lQi4t",
      "execution_count": null,
      "outputs": []
    },
    {
      "cell_type": "markdown",
      "source": [
        "## Set the Prompt & Model"
      ],
      "metadata": {
        "id": "RkfcpX_Q4es2"
      },
      "id": "RkfcpX_Q4es2"
    },
    {
      "cell_type": "code",
      "source": [
        "#Model name to use\n",
        "model_name = \"gemini-pro\"\n",
        "\n",
        "#Prompt to send to Vertex AI\n",
        "prompt = \"Write a children's short story based on the text provided. Include at least one fictional character as the hero.\"\n",
        "#prompt = \"Write a 100-word PG-rated synopsis of a fictional book based on the image text\""
      ],
      "metadata": {
        "id": "OggdWlaFuaCL",
        "executionInfo": {
          "status": "ok",
          "timestamp": 1707261625166,
          "user_tz": 420,
          "elapsed": 2,
          "user": {
            "displayName": "",
            "userId": ""
          }
        }
      },
      "id": "OggdWlaFuaCL",
      "execution_count": 4,
      "outputs": []
    },
    {
      "cell_type": "markdown",
      "source": [
        "## Fetch Image Info and Send to Model with Prompt\n",
        "Run the following code to import dependencies and make calls to get image url and send the prompt to the model endpoint"
      ],
      "metadata": {
        "id": "z3-vQlk1urMU"
      },
      "id": "z3-vQlk1urMU"
    },
    {
      "cell_type": "code",
      "source": [
        "#Import requests\n",
        "import vertexai\n",
        "from vertexai.preview.generative_models import GenerativeModel, Part\n",
        "\n",
        "# Function to fetch image information from the URL as plain text\n",
        "def fetch_image_info(url):\n",
        "    response = requests.get(url)\n",
        "    if response.status_code == 200:\n",
        "        return response.text  # Return the plain text response\n",
        "    else:\n",
        "        return \"Error: Could not fetch image information\"\n",
        "\n",
        "# Fetching the image information\n",
        "image_info = fetch_image_info(image_info_url)\n",
        "print(image_info)\n",
        "\n",
        "# Generate short story based on image_info\n",
        "def generate(model_name):\n",
        "    model = GenerativeModel(model_name)\n",
        "    full_prompt = prompt + \"\\n\" + image_info  # Combining the user prompt with the image information\n",
        "    responses = model.generate_content(\n",
        "        full_prompt,  # Using the combined prompt\n",
        "        generation_config={\n",
        "            \"max_output_tokens\": 2048,\n",
        "            \"temperature\": 0.98,\n",
        "            \"top_p\": 1\n",
        "        },\n",
        "        stream=True,\n",
        "    )\n",
        "    # Print the generated content\n",
        "    for response in responses:\n",
        "        print(response.candidates[0].content.parts[0].text)\n",
        "\n",
        "# Call the generate function with the user-defined model name\n",
        "generate(model_name)\n"
      ],
      "metadata": {
        "id": "b2dYopgXutqi"
      },
      "id": "b2dYopgXutqi",
      "execution_count": null,
      "outputs": []
    }
  ],
  "metadata": {
    "kernelspec": {
      "display_name": "Python 3",
      "language": "python",
      "name": "python3"
    },
    "language_info": {
      "codemirror_mode": {
        "name": "ipython",
        "version": 3
      },
      "file_extension": ".py",
      "mimetype": "text/x-python",
      "name": "python",
      "nbconvert_exporter": "python",
      "pygments_lexer": "ipython3",
      "version": "3.10.10"
    },
    "colab": {
      "provenance": []
    }
  },
  "nbformat": 4,
  "nbformat_minor": 5
}