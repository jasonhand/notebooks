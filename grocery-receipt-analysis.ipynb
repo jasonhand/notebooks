{
  "cells": [
    {
      "cell_type": "markdown",
      "id": "tGy0Jnr_VbfA",
      "metadata": {
        "id": "tGy0Jnr_VbfA"
      },
      "source": [
        "# Duet AI & Data Analysis\n",
        "\n",
        "Provide Duet AI with context in the form of a commented statement and watch as a suggestion is provided.\n",
        "\n",
        "Using the pandas and matplotlib libraries, import and analyze data.\n",
        "\n",
        ">NOTE: You must import the CSV file to the runtime file system (i.e. drag it in to the root folder using the Files browser.\n",
        "\n"
      ]
    },
    {
      "cell_type": "code",
      "execution_count": 1,
      "id": "2f6c235e",
      "metadata": {
        "execution": {
          "iopub.execute_input": "2024-01-08T18:26:16.829052Z",
          "iopub.status.busy": "2024-01-08T18:26:16.828605Z",
          "iopub.status.idle": "2024-01-08T18:26:19.926324Z",
          "shell.execute_reply": "2024-01-08T18:26:19.925016Z"
        },
        "executionInfo": {
          "elapsed": 746,
          "status": "ok",
          "timestamp": 1707261113967,
          "user": {
            "displayName": "",
            "userId": ""
          },
          "user_tz": 420
        },
        "id": "2f6c235e",
        "papermill": {
          "duration": 3.114004,
          "end_time": "2024-01-08T18:26:19.929426",
          "exception": false,
          "start_time": "2024-01-08T18:26:16.815422",
          "status": "completed"
        },
        "tags": []
      },
      "outputs": [],
      "source": [
        "import pandas as pd\n",
        "import seaborn as sns\n",
        "import matplotlib.pyplot as plt\n",
        "import plotly.express as px\n",
        "\n",
        "sns.set_style('darkgrid')"
      ]
    },
    {
      "cell_type": "markdown",
      "id": "VbDxYDqTV_gQ",
      "metadata": {
        "id": "VbDxYDqTV_gQ"
      },
      "source": [
        "## Import\n",
        "\n",
        "- Create a pandas dataframe using a `.csv` file and view the header of the file. Ensure that the encoding is `ISO-8859-1` and that the dtype for UPC_Code and Order_Number are set as strings"
      ]
    },
    {
      "cell_type": "code",
      "execution_count": null,
      "id": "b5cc26da",
      "metadata": {
        "colab": {
          "base_uri": "https://localhost:8080/",
          "height": 521
        },
        "execution": {
          "iopub.execute_input": "2024-01-08T18:26:19.951741Z",
          "iopub.status.busy": "2024-01-08T18:26:19.950969Z",
          "iopub.status.idle": "2024-01-08T18:26:20.372856Z",
          "shell.execute_reply": "2024-01-08T18:26:20.371714Z"
        },
        "executionInfo": {
          "elapsed": 5,
          "status": "ok",
          "timestamp": 1707261113967,
          "user": {
            "displayName": "",
            "userId": ""
          },
          "user_tz": 420
        },
        "id": "b5cc26da",
        "outputId": "882f59e2-b5ad-4692-b4b5-770417f4806a",
        "papermill": {
          "duration": 0.436016,
          "end_time": "2024-01-08T18:26:20.375534",
          "exception": false,
          "start_time": "2024-01-08T18:26:19.939518",
          "status": "completed"
        },
        "tags": []
      },
      "outputs": [],
      "source": [
        "# Import Data with specified data types for UPC_Code and Order_Number\n",
        "receipts_df = pd.read_csv('receipt_data.csv', encoding='ISO-8859-1',\n",
        "                          dtype={'UPC_Code': str, 'Order_Number': str})\n",
        "receipts_df.head()"
      ]
    },
    {
      "cell_type": "markdown",
      "id": "nhsxs2_UWxQi",
      "metadata": {
        "id": "nhsxs2_UWxQi"
      },
      "source": [
        "## View\n",
        "- Output information about the receipts_df dataframe\n",
        "- Show count of UPC_Codes\n",
        "- Show unique Item_Details\n",
        "- Show count of unique Item_Details"
      ]
    },
    {
      "cell_type": "code",
      "execution_count": 2,
      "id": "gdmdGuhQxv1c",
      "metadata": {
        "executionInfo": {
          "elapsed": 4,
          "status": "ok",
          "timestamp": 1707261113967,
          "user": {
            "displayName": "",
            "userId": ""
          },
          "user_tz": 420
        },
        "id": "gdmdGuhQxv1c"
      },
      "outputs": [],
      "source": []
    },
    {
      "cell_type": "code",
      "execution_count": 2,
      "id": "d8ccfe09",
      "metadata": {
        "execution": {
          "iopub.execute_input": "2024-01-08T18:26:20.398189Z",
          "iopub.status.busy": "2024-01-08T18:26:20.397480Z",
          "iopub.status.idle": "2024-01-08T18:26:20.438657Z",
          "shell.execute_reply": "2024-01-08T18:26:20.437419Z"
        },
        "executionInfo": {
          "elapsed": 3,
          "status": "ok",
          "timestamp": 1707261113967,
          "user": {
            "displayName": "",
            "userId": ""
          },
          "user_tz": 420
        },
        "id": "d8ccfe09",
        "papermill": {
          "duration": 0.056187,
          "end_time": "2024-01-08T18:26:20.441731",
          "exception": false,
          "start_time": "2024-01-08T18:26:20.385544",
          "status": "completed"
        },
        "tags": []
      },
      "outputs": [],
      "source": []
    },
    {
      "cell_type": "code",
      "execution_count": 2,
      "id": "bCsBf90byKvN",
      "metadata": {
        "executionInfo": {
          "elapsed": 3,
          "status": "ok",
          "timestamp": 1707261113967,
          "user": {
            "displayName": "",
            "userId": ""
          },
          "user_tz": 420
        },
        "id": "bCsBf90byKvN"
      },
      "outputs": [],
      "source": []
    },
    {
      "cell_type": "code",
      "execution_count": 2,
      "id": "BvXlGb9VkOQI",
      "metadata": {
        "executionInfo": {
          "elapsed": 3,
          "status": "ok",
          "timestamp": 1707261113967,
          "user": {
            "displayName": "",
            "userId": ""
          },
          "user_tz": 420
        },
        "id": "BvXlGb9VkOQI"
      },
      "outputs": [],
      "source": []
    },
    {
      "cell_type": "markdown",
      "id": "pDRUGuMUxqUt",
      "metadata": {
        "id": "pDRUGuMUxqUt"
      },
      "source": [
        "**Duet AI** should have generated the following:\n",
        "- `receipts_df.info()`\n",
        "- `receipts_df['UPC_Code'].nunique()`\n",
        "- `receipts_df['Item Details'].nunique()`\n",
        "- `receipts_df['Item Details'].unique()`"
      ]
    },
    {
      "cell_type": "markdown",
      "id": "K_fc37ZFWftH",
      "metadata": {
        "id": "K_fc37ZFWftH"
      },
      "source": [
        "## Modify\n",
        "- Modify the data so that the Item Details is now Item_Details\n",
        "- Show count of unique Item_Details\n",
        "- Convert Order_Date from string to date with the correct format 'MM/DD/YY' and display the dataframe"
      ]
    },
    {
      "cell_type": "code",
      "execution_count": 2,
      "id": "J_b2FkFBxR08",
      "metadata": {
        "executionInfo": {
          "elapsed": 3,
          "status": "ok",
          "timestamp": 1707261113967,
          "user": {
            "displayName": "",
            "userId": ""
          },
          "user_tz": 420
        },
        "id": "J_b2FkFBxR08"
      },
      "outputs": [],
      "source": []
    },
    {
      "cell_type": "code",
      "execution_count": 2,
      "id": "j4K9msFJjbOQ",
      "metadata": {
        "executionInfo": {
          "elapsed": 3,
          "status": "ok",
          "timestamp": 1707261113967,
          "user": {
            "displayName": "",
            "userId": ""
          },
          "user_tz": 420
        },
        "id": "j4K9msFJjbOQ"
      },
      "outputs": [],
      "source": []
    },
    {
      "cell_type": "code",
      "execution_count": 2,
      "id": "Qlt9RXUGx7h3",
      "metadata": {
        "executionInfo": {
          "elapsed": 3,
          "status": "ok",
          "timestamp": 1707261113967,
          "user": {
            "displayName": "",
            "userId": ""
          },
          "user_tz": 420
        },
        "id": "Qlt9RXUGx7h3"
      },
      "outputs": [],
      "source": []
    },
    {
      "cell_type": "markdown",
      "id": "Qxg_rotnzES8",
      "metadata": {
        "id": "Qxg_rotnzES8"
      },
      "source": [
        "**Duet AI** should have generated the following:\n",
        "- `receipts_df.rename(columns={'Item Details': 'Item_Details'}, inplace=True)`\n",
        "- `receipts_df['Item_Details'].nunique()`\n",
        "- `receipts_df['Order_Date'] = pd.to_datetime(receipts_df['Order_Date'], format='%m/%d/%y')\n",
        "receipts_df.head()`"
      ]
    },
    {
      "cell_type": "markdown",
      "id": "7JT7BycTZvNh",
      "metadata": {
        "id": "7JT7BycTZvNh"
      },
      "source": [
        "## Examine\n",
        "\n",
        "- Describe the receipts_df dataframe with `.T`\n",
        "- Display items with an amount greater than 4.64\n",
        "- Count of Item_Details\n",
        "- Show UPC Code that Have Been Purchased More Than Once\n",
        "- Calculate the average Total Savings for all orders and display as dollars"
      ]
    },
    {
      "cell_type": "code",
      "execution_count": 2,
      "id": "331b7737",
      "metadata": {
        "execution": {
          "iopub.execute_input": "2024-01-08T18:26:20.464617Z",
          "iopub.status.busy": "2024-01-08T18:26:20.464133Z",
          "iopub.status.idle": "2024-01-08T18:26:20.536782Z",
          "shell.execute_reply": "2024-01-08T18:26:20.535492Z"
        },
        "executionInfo": {
          "elapsed": 4,
          "status": "ok",
          "timestamp": 1707261113968,
          "user": {
            "displayName": "",
            "userId": ""
          },
          "user_tz": 420
        },
        "id": "331b7737",
        "papermill": {
          "duration": 0.087599,
          "end_time": "2024-01-08T18:26:20.539522",
          "exception": false,
          "start_time": "2024-01-08T18:26:20.451923",
          "status": "completed"
        },
        "tags": []
      },
      "outputs": [],
      "source": []
    },
    {
      "cell_type": "code",
      "execution_count": 2,
      "id": "8a8249fb",
      "metadata": {
        "execution": {
          "iopub.execute_input": "2024-01-08T18:26:20.563721Z",
          "iopub.status.busy": "2024-01-08T18:26:20.562592Z",
          "iopub.status.idle": "2024-01-08T18:26:20.570853Z",
          "shell.execute_reply": "2024-01-08T18:26:20.569451Z"
        },
        "executionInfo": {
          "elapsed": 4,
          "status": "ok",
          "timestamp": 1707261113968,
          "user": {
            "displayName": "",
            "userId": ""
          },
          "user_tz": 420
        },
        "id": "8a8249fb",
        "papermill": {
          "duration": 0.022858,
          "end_time": "2024-01-08T18:26:20.573359",
          "exception": false,
          "start_time": "2024-01-08T18:26:20.550501",
          "status": "completed"
        },
        "tags": []
      },
      "outputs": [],
      "source": []
    },
    {
      "cell_type": "code",
      "execution_count": 2,
      "id": "oI26ERQShii6",
      "metadata": {
        "executionInfo": {
          "elapsed": 4,
          "status": "ok",
          "timestamp": 1707261113968,
          "user": {
            "displayName": "",
            "userId": ""
          },
          "user_tz": 420
        },
        "id": "oI26ERQShii6"
      },
      "outputs": [],
      "source": []
    },
    {
      "cell_type": "code",
      "execution_count": 2,
      "id": "tg4tQJcDjlGI",
      "metadata": {
        "executionInfo": {
          "elapsed": 141,
          "status": "ok",
          "timestamp": 1707261114105,
          "user": {
            "displayName": "",
            "userId": ""
          },
          "user_tz": 420
        },
        "id": "tg4tQJcDjlGI"
      },
      "outputs": [],
      "source": []
    },
    {
      "cell_type": "code",
      "execution_count": 2,
      "id": "mkqAw224OCr2",
      "metadata": {
        "executionInfo": {
          "elapsed": 1,
          "status": "ok",
          "timestamp": 1707261114105,
          "user": {
            "displayName": "",
            "userId": ""
          },
          "user_tz": 420
        },
        "id": "mkqAw224OCr2"
      },
      "outputs": [],
      "source": []
    },
    {
      "cell_type": "markdown",
      "id": "2tagfINlz1YG",
      "metadata": {
        "id": "2tagfINlz1YG"
      },
      "source": [
        "**Duet AI** Should Have Generated the Following\n",
        "- `receipts_df.describe().T`\n",
        "- `receipts_df[receipts_df['Amount'] > 4.64]`\n",
        "- `receipts_df['Item_Details'].value_counts()`\n",
        "- `receipts_df['UPC_Code'].value_counts()[receipts_df['UPC_Code'].value_counts() > 1]`\n",
        "- `average_total_savings = receipts_df['Total_Savings'].mean().round(2)\n",
        "formatted_average = f\"${average_total_savings}\"\n",
        "print(formatted_average)`"
      ]
    },
    {
      "cell_type": "code",
      "execution_count": null,
      "id": "gqcApveKrrsa",
      "metadata": {
        "id": "gqcApveKrrsa"
      },
      "outputs": [],
      "source": [
        "# Group by Order_Date, then count the Item_Details for each date\n",
        "order_item_counts = receipts_df.groupby('Order_Date')['Item_Details'].count().reset_index()\n",
        "\n",
        "# Rename the columns for clarity\n",
        "order_item_counts.columns = ['Order_Date', 'Item_Count']\n",
        "\n",
        "# Sort the DataFrame by Order_Date in descending order (most recent date first)\n",
        "order_item_counts = order_item_counts.sort_values(by='Order_Date', ascending=False)\n",
        "\n",
        "# Display the DataFrame\n",
        "order_item_counts"
      ]
    },
    {
      "cell_type": "code",
      "execution_count": null,
      "id": "479c8b32",
      "metadata": {
        "execution": {
          "iopub.execute_input": "2024-01-08T18:26:20.597142Z",
          "iopub.status.busy": "2024-01-08T18:26:20.596756Z",
          "iopub.status.idle": "2024-01-08T18:26:20.616366Z",
          "shell.execute_reply": "2024-01-08T18:26:20.615241Z"
        },
        "executionInfo": {
          "elapsed": 2,
          "status": "aborted",
          "timestamp": 1707261114281,
          "user": {
            "displayName": "",
            "userId": ""
          },
          "user_tz": 420
        },
        "id": "479c8b32",
        "papermill": {
          "duration": 0.034437,
          "end_time": "2024-01-08T18:26:20.618778",
          "exception": false,
          "start_time": "2024-01-08T18:26:20.584341",
          "status": "completed"
        },
        "tags": []
      },
      "outputs": [],
      "source": [
        "# Group by Order_Date and Order_Number, then calculate the mean of Amount\n",
        "average_amount_by_date_order = receipts_df.groupby(['Order_Date', 'Order_Number'])['Amount'].mean().reset_index()\n",
        "\n",
        "# Format the amounts to include a dollar sign\n",
        "average_amount_by_date_order['Formatted_Amount'] = average_amount_by_date_order['Amount'].map('${:,.2f}'.format)\n",
        "\n",
        "# Sort the DataFrame by Order_Date in descending order (most recent date first)\n",
        "average_amount_by_date_order = average_amount_by_date_order.sort_values(by='Order_Date', ascending=False)\n",
        "\n",
        "# Display the DataFrame\n",
        "average_amount_by_date_order"
      ]
    },
    {
      "cell_type": "markdown",
      "id": "XChkQm0Gb7RS",
      "metadata": {
        "id": "XChkQm0Gb7RS"
      },
      "source": [
        "## Visualize\n"
      ]
    },
    {
      "cell_type": "markdown",
      "id": "QhZ4DMsRhccX",
      "metadata": {
        "id": "QhZ4DMsRhccX"
      },
      "source": [
        "- Using matplotlib generate code to display a smooth time series graph of each order (using order date) and the Payment Amount"
      ]
    },
    {
      "cell_type": "code",
      "execution_count": null,
      "id": "VXFceyUHhg-1",
      "metadata": {
        "executionInfo": {
          "elapsed": 2,
          "status": "aborted",
          "timestamp": 1707261114281,
          "user": {
            "displayName": "",
            "userId": ""
          },
          "user_tz": 420
        },
        "id": "VXFceyUHhg-1"
      },
      "outputs": [],
      "source": [
        "# Using matplotlib generate code to display a smooth time series graph of each order (using order date) and the Payment Amount\n",
        "receipts_df.plot(x='Order_Date', y='Payment_Amount', kind='line')"
      ]
    },
    {
      "cell_type": "markdown",
      "id": "rWQm1juV09L-",
      "metadata": {
        "id": "rWQm1juV09L-"
      },
      "source": [
        "### Item Count Over Time"
      ]
    },
    {
      "cell_type": "code",
      "execution_count": null,
      "id": "LHve0gxAJJzc",
      "metadata": {
        "executionInfo": {
          "elapsed": 2,
          "status": "aborted",
          "timestamp": 1707261114281,
          "user": {
            "displayName": "",
            "userId": ""
          },
          "user_tz": 420
        },
        "id": "LHve0gxAJJzc"
      },
      "outputs": [],
      "source": [
        "from matplotlib import pyplot as plt\n",
        "import seaborn as sns\n",
        "def _plot_series(series, series_name, series_index=0):\n",
        "  from matplotlib import pyplot as plt\n",
        "  import seaborn as sns\n",
        "  palette = list(sns.palettes.mpl_palette('Dark2'))\n",
        "  xs = series['Order_Date']\n",
        "  ys = series['Item_Count']\n",
        "\n",
        "  plt.plot(xs, ys, label=series_name, color=palette[series_index % len(palette)])\n",
        "\n",
        "fig, ax = plt.subplots(figsize=(10, 5.2), layout='constrained')\n",
        "df_sorted = order_item_counts.sort_values('Order_Date', ascending=True)\n",
        "_plot_series(df_sorted, '')\n",
        "sns.despine(fig=fig, ax=ax)\n",
        "plt.xlabel('Order_Date')\n",
        "_ = plt.ylabel('Item_Count')"
      ]
    },
    {
      "cell_type": "markdown",
      "id": "BvoGxYNN02z6",
      "metadata": {
        "id": "BvoGxYNN02z6"
      },
      "source": [
        "### Item Count Over Time w/ a Trend Line"
      ]
    },
    {
      "cell_type": "code",
      "execution_count": null,
      "id": "ItOoFNssJX2t",
      "metadata": {
        "executionInfo": {
          "elapsed": 2,
          "status": "aborted",
          "timestamp": 1707261114281,
          "user": {
            "displayName": "",
            "userId": ""
          },
          "user_tz": 420
        },
        "id": "ItOoFNssJX2t"
      },
      "outputs": [],
      "source": [
        "from matplotlib import pyplot as plt\n",
        "import seaborn as sns\n",
        "import numpy as np\n",
        "import pandas as pd\n",
        "import datetime\n",
        "\n",
        "# Convert Order_Date to datetime format if it's not already\n",
        "receipts_df['Order_Date'] = pd.to_datetime(receipts_df['Order_Date'])\n",
        "\n",
        "def _plot_series(series, series_name, series_index=0):\n",
        "    palette = list(sns.palettes.mpl_palette('Dark2'))\n",
        "    xs = series['Order_Date']\n",
        "    ys = series['Item_Count']\n",
        "\n",
        "    plt.plot(xs, ys, label=series_name, color=palette[series_index % len(palette)])\n",
        "\n",
        "    # Fitting a linear trend line\n",
        "    z = np.polyfit(pd.to_datetime(xs).map(datetime.datetime.toordinal), ys, 1)\n",
        "    p = np.poly1d(z)\n",
        "    plt.plot(xs, p(pd.to_datetime(xs).map(datetime.datetime.toordinal)), \"--\", color=palette[series_index % len(palette)], label=f'{series_name} Trend Line')\n",
        "\n",
        "fig, ax = plt.subplots(figsize=(10, 5.2), layout='constrained')\n",
        "df_sorted = order_item_counts.sort_values('Order_Date', ascending=True)\n",
        "_plot_series(df_sorted, 'Item Count')\n",
        "sns.despine(fig=fig, ax=ax)\n",
        "plt.xlabel('Order Date')\n",
        "plt.ylabel('Item Count')\n",
        "plt.legend()\n",
        "plt.show()\n"
      ]
    },
    {
      "cell_type": "markdown",
      "id": "2wQ8wgXl1Fhj",
      "metadata": {
        "id": "2wQ8wgXl1Fhj"
      },
      "source": [
        "### Average Item Price By Order Date"
      ]
    },
    {
      "cell_type": "code",
      "execution_count": null,
      "id": "QJwfqu5NvR7s",
      "metadata": {
        "executionInfo": {
          "elapsed": 2,
          "status": "aborted",
          "timestamp": 1707261114281,
          "user": {
            "displayName": "",
            "userId": ""
          },
          "user_tz": 420
        },
        "id": "QJwfqu5NvR7s"
      },
      "outputs": [],
      "source": [
        "import matplotlib.pyplot as plt\n",
        "import matplotlib.ticker as mtick\n",
        "\n",
        "# Ensure that Order_Date is in datetime format\n",
        "receipts_df['Order_Date'] = pd.to_datetime(receipts_df['Order_Date'])\n",
        "\n",
        "# Group by Order_Date and calculate the mean of Amount, then sort by Order_Date\n",
        "sorted_average_amount_by_date = receipts_df.groupby('Order_Date')['Amount'].mean().sort_index()\n",
        "\n",
        "# Plotting the time series\n",
        "fig, ax = plt.subplots()\n",
        "sorted_average_amount_by_date.plot(ax=ax, kind='bar')\n",
        "\n",
        "# Format y-axis to show dollar sign and two decimal places\n",
        "fmt = '${x:,.2f}'\n",
        "tick = mtick.StrMethodFormatter(fmt)\n",
        "ax.yaxis.set_major_formatter(tick)\n",
        "\n",
        "# Set labels\n",
        "ax.set_xlabel('Order Date')\n",
        "ax.set_ylabel('Average Amount')\n",
        "ax.set_title('Average Amount by Order Date (Chronologically)')\n",
        "\n",
        "# Show the plot\n",
        "plt.show()\n"
      ]
    },
    {
      "cell_type": "markdown",
      "id": "ePoPYviA1Tl1",
      "metadata": {
        "id": "ePoPYviA1Tl1"
      },
      "source": [
        "### Payment Amount Over Time w/ a Trend Line"
      ]
    },
    {
      "cell_type": "code",
      "execution_count": null,
      "id": "JHUOi_jjx5h2",
      "metadata": {
        "executionInfo": {
          "elapsed": 2,
          "status": "aborted",
          "timestamp": 1707261114281,
          "user": {
            "displayName": "",
            "userId": ""
          },
          "user_tz": 420
        },
        "id": "JHUOi_jjx5h2"
      },
      "outputs": [],
      "source": [
        "# Linear Regression\n",
        "\n",
        "import matplotlib.pyplot as plt\n",
        "import pandas as pd\n",
        "import numpy as np\n",
        "from scipy.stats import linregress\n",
        "\n",
        "# Ensure that Order_Date is in datetime format\n",
        "receipts_df['Order_Date'] = pd.to_datetime(receipts_df['Order_Date'])\n",
        "\n",
        "# Sort by Order_Date\n",
        "receipts_df_sorted = receipts_df.sort_values('Order_Date')\n",
        "\n",
        "# Generate a linear regression line\n",
        "x = np.arange(len(receipts_df_sorted))\n",
        "y = receipts_df_sorted['Payment_Amount']\n",
        "slope, intercept, r_value, p_value, std_err = linregress(x, y)\n",
        "trendline = intercept + slope * x\n",
        "\n",
        "# Plotting the data and the trendline\n",
        "plt.figure(figsize=(10, 5))\n",
        "plt.plot(receipts_df_sorted['Order_Date'], receipts_df_sorted['Payment_Amount'], label='Payment Amount')\n",
        "plt.plot(receipts_df_sorted['Order_Date'], trendline, color='red', label='Trend Line')\n",
        "\n",
        "plt.xlabel('Order Date')\n",
        "plt.ylabel('Payment Amount')\n",
        "plt.title('Payment Amount Over Time with Trend Line')\n",
        "plt.legend()\n",
        "plt.show()\n"
      ]
    },
    {
      "cell_type": "markdown",
      "id": "LkguNWf01d6t",
      "metadata": {
        "id": "LkguNWf01d6t"
      },
      "source": [
        "### Cumulative Amount Increase for Top 10 Items Over Time"
      ]
    },
    {
      "cell_type": "code",
      "execution_count": null,
      "id": "lrSw4d_r0hUu",
      "metadata": {
        "executionInfo": {
          "elapsed": 2,
          "status": "aborted",
          "timestamp": 1707261114281,
          "user": {
            "displayName": "",
            "userId": ""
          },
          "user_tz": 420
        },
        "id": "lrSw4d_r0hUu"
      },
      "outputs": [],
      "source": [
        "import matplotlib.pyplot as plt\n",
        "import pandas as pd\n",
        "\n",
        "# Ensure Order_Date is a datetime\n",
        "receipts_df['Order_Date'] = pd.to_datetime(receipts_df['Order_Date'])\n",
        "\n",
        "# Identify the top 10 most purchased items based on frequency or total amount\n",
        "top_items = receipts_df.groupby('Item_Details')['Amount'].sum().nlargest(10).index\n",
        "\n",
        "# Filter the DataFrame for only these top 10 items\n",
        "top_10_df = receipts_df[receipts_df['Item_Details'].isin(top_items)]\n",
        "\n",
        "# Group by Item_Details and Order_Date and sum the Amount\n",
        "grouped_data = top_10_df.groupby(['Item_Details', 'Order_Date'])['Amount'].sum().reset_index()\n",
        "\n",
        "# Pivot the data\n",
        "pivoted_data = grouped_data.pivot(index='Order_Date', columns='Item_Details', values='Amount').fillna(0)\n",
        "\n",
        "# Calculate the cumulative sum over time for each item\n",
        "cumulative_data = pivoted_data.cumsum()\n",
        "\n",
        "# Plotting\n",
        "plt.figure(figsize=(15, 8))\n",
        "for column in cumulative_data.columns:\n",
        "    plt.plot(cumulative_data.index, cumulative_data[column], label=column)\n",
        "\n",
        "plt.xlabel('Order Date')\n",
        "plt.ylabel('Cumulative Amount')\n",
        "plt.title('Cumulative Amount Increase for Top 10 Items Over Time')\n",
        "plt.legend(title='Item Details', bbox_to_anchor=(1.05, 1), loc='upper left')\n",
        "plt.xticks(rotation=45)\n",
        "plt.tight_layout()\n",
        "plt.show()\n"
      ]
    },
    {
      "cell_type": "markdown",
      "id": "H2H_-IbF1s4y",
      "metadata": {
        "id": "H2H_-IbF1s4y"
      },
      "source": [
        "### Purchases of UPC Code Over Time with Trend Line"
      ]
    },
    {
      "cell_type": "code",
      "execution_count": null,
      "id": "vXWaPa-E3jzI",
      "metadata": {
        "executionInfo": {
          "elapsed": 2,
          "status": "aborted",
          "timestamp": 1707261114281,
          "user": {
            "displayName": "",
            "userId": ""
          },
          "user_tz": 420
        },
        "id": "vXWaPa-E3jzI"
      },
      "outputs": [],
      "source": [
        "import matplotlib.pyplot as plt\n",
        "import pandas as pd\n",
        "import numpy as np\n",
        "import matplotlib.dates as mdates\n",
        "\n",
        "# Convert Order_Date to a datetime format if not already\n",
        "receipts_df['Order_Date'] = pd.to_datetime(receipts_df['Order_Date'])\n",
        "\n",
        "# Filter for the specific UPC Code\n",
        "specific_upc_df = receipts_df[receipts_df['UPC_Code'] == '2100065893']\n",
        "\n",
        "# Group by Order_Date and sum the Amount\n",
        "grouped_data = specific_upc_df.groupby('Order_Date')['Amount'].sum().reset_index()\n",
        "\n",
        "# Plotting\n",
        "plt.figure(figsize=(12, 6))\n",
        "plt.plot(grouped_data['Order_Date'], grouped_data['Amount'], marker='o', linestyle='-', label='Amount')\n",
        "\n",
        "# Add labels for each data point\n",
        "for i in range(len(grouped_data)):\n",
        "    plt.text(grouped_data['Order_Date'][i], grouped_data['Amount'][i], f'{grouped_data[\"Amount\"][i]:.2f}',\n",
        "             ha='center', va='bottom')\n",
        "\n",
        "# Fitting a linear trend line\n",
        "z = np.polyfit(mdates.date2num(grouped_data['Order_Date']), grouped_data['Amount'], 1)\n",
        "p = np.poly1d(z)\n",
        "plt.plot(grouped_data['Order_Date'], p(mdates.date2num(grouped_data['Order_Date'])), \"r--\", label='Trend Line')\n",
        "\n",
        "plt.xlabel('Order Date')\n",
        "plt.ylabel('Amount')\n",
        "plt.title('Purchases of UPC Code Over Time with Trend Line')\n",
        "plt.xticks(rotation=45)\n",
        "plt.grid(True)\n",
        "plt.legend()\n",
        "plt.tight_layout()\n",
        "plt.show()\n"
      ]
    },
    {
      "cell_type": "markdown",
      "id": "WqcXj_wP1zLU",
      "metadata": {
        "id": "WqcXj_wP1zLU"
      },
      "source": [
        "### Total Savings Over Time"
      ]
    },
    {
      "cell_type": "code",
      "execution_count": null,
      "id": "y4iqtro7Fskz",
      "metadata": {
        "executionInfo": {
          "elapsed": 2,
          "status": "aborted",
          "timestamp": 1707261114281,
          "user": {
            "displayName": "",
            "userId": ""
          },
          "user_tz": 420
        },
        "id": "y4iqtro7Fskz"
      },
      "outputs": [],
      "source": [
        "plt.figure(figsize=(12, 6))\n",
        "sns.lineplot(data=receipts_df, x='Order_Date', y='Total_Savings', color='#a29bfe')\n",
        "plt.xlabel('Order Date')\n",
        "plt.ylabel('Total Savings')\n",
        "plt.title('Total Savings Over Time')\n",
        "plt.show()\n"
      ]
    }
  ],
  "metadata": {
    "colab": {
      "provenance": []
    },
    "kaggle": {
      "accelerator": "none",
      "dataSources": [
        {
          "datasetId": 4058957,
          "sourceId": 7052436,
          "sourceType": "datasetVersion"
        }
      ],
      "dockerImageVersionId": 30626,
      "isGpuEnabled": false,
      "isInternetEnabled": true,
      "language": "python",
      "sourceType": "notebook"
    },
    "kernelspec": {
      "display_name": "Python 3",
      "language": "python",
      "name": "python3"
    },
    "language_info": {
      "codemirror_mode": {
        "name": "ipython",
        "version": 3
      },
      "file_extension": ".py",
      "mimetype": "text/x-python",
      "name": "python",
      "nbconvert_exporter": "python",
      "pygments_lexer": "ipython3",
      "version": "3.10.12"
    },
    "papermill": {
      "default_parameters": {},
      "duration": 28.270231,
      "end_time": "2024-01-08T18:26:41.535760",
      "environment_variables": {},
      "exception": null,
      "input_path": "__notebook__.ipynb",
      "output_path": "__notebook__.ipynb",
      "parameters": {},
      "start_time": "2024-01-08T18:26:13.265529",
      "version": "2.4.0"
    }
  },
  "nbformat": 4,
  "nbformat_minor": 5
}
