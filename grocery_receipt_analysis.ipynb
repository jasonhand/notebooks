{
  "cells": [
    {
      "cell_type": "markdown",
      "source": [
        "# Data Science\n",
        "\n",
        "Using the pandas and matplotlib libraries, import and analyze data.\n",
        "\n",
        ">NOTE: You must import the CSV file to the runtime file system (i.e. drag it in to the root folder using the Files browser.\n",
        "\n"
      ],
      "metadata": {
        "id": "tGy0Jnr_VbfA"
      },
      "id": "tGy0Jnr_VbfA"
    },
    {
      "cell_type": "code",
      "execution_count": 81,
      "id": "2f6c235e",
      "metadata": {
        "execution": {
          "iopub.execute_input": "2024-01-08T18:26:16.829052Z",
          "iopub.status.busy": "2024-01-08T18:26:16.828605Z",
          "iopub.status.idle": "2024-01-08T18:26:19.926324Z",
          "shell.execute_reply": "2024-01-08T18:26:19.925016Z"
        },
        "id": "2f6c235e",
        "papermill": {
          "duration": 3.114004,
          "end_time": "2024-01-08T18:26:19.929426",
          "exception": false,
          "start_time": "2024-01-08T18:26:16.815422",
          "status": "completed"
        },
        "tags": [],
        "executionInfo": {
          "status": "ok",
          "timestamp": 1705531264143,
          "user_tz": 420,
          "elapsed": 119,
          "user": {
            "displayName": "",
            "userId": ""
          }
        }
      },
      "outputs": [],
      "source": [
        "import pandas as pd\n",
        "import seaborn as sns\n",
        "import matplotlib.pyplot as plt\n",
        "import plotly.express as px\n",
        "\n",
        "sns.set_style('darkgrid')"
      ]
    },
    {
      "cell_type": "markdown",
      "source": [
        "## Import\n",
        "\n",
        "- Create a pandas data frame using a `.csv` file and view the header of the file. Ensure that the encoding is `ISO-8859-1` and that the dtype for UPC_Code and Order_Number are set as strings"
      ],
      "metadata": {
        "id": "VbDxYDqTV_gQ"
      },
      "id": "VbDxYDqTV_gQ"
    },
    {
      "cell_type": "code",
      "execution_count": 82,
      "id": "b5cc26da",
      "metadata": {
        "execution": {
          "iopub.execute_input": "2024-01-08T18:26:19.951741Z",
          "iopub.status.busy": "2024-01-08T18:26:19.950969Z",
          "iopub.status.idle": "2024-01-08T18:26:20.372856Z",
          "shell.execute_reply": "2024-01-08T18:26:20.371714Z"
        },
        "id": "b5cc26da",
        "papermill": {
          "duration": 0.436016,
          "end_time": "2024-01-08T18:26:20.375534",
          "exception": false,
          "start_time": "2024-01-08T18:26:19.939518",
          "status": "completed"
        },
        "tags": [],
        "colab": {
          "base_uri": "https://localhost:8080/",
          "height": 538
        },
        "executionInfo": {
          "status": "ok",
          "timestamp": 1705531283782,
          "user_tz": 420,
          "elapsed": 292,
          "user": {
            "displayName": "",
            "userId": ""
          }
        },
        "outputId": "ffd4a3cc-5eef-47d4-8415-ccc8d28a86d7"
      },
      "outputs": [
        {
          "output_type": "execute_result",
          "data": {
            "text/plain": [
              "                       Item Details  Amount Quantity   Sale_Price  \\\n",
              "0    Angel SoftÂ¨ Mega Toilet Paper   12.79        1  $12.79 each   \n",
              "1      Archway Iced Oatmeal Cookies    4.79        1   $4.79 each   \n",
              "2      Ball Park White Hot Dog Buns    3.99        1   $3.99 each   \n",
              "3  Ball ParkÂ¨ Bun Size Beef Franks    3.50        1   $6.49 each   \n",
              "4        Boulder CanyonÂ¨ BBQ Chips    3.99        1   $4.29 each   \n",
              "\n",
              "      UPC_Code Order_Type Order_Date         Order_Number  \\\n",
              "0   3040079423     Pickup   12/19/23  1233535475980307401   \n",
              "1   2750009533     Pickup   12/19/23  1233535475980307401   \n",
              "2   5040075116     Pickup   12/19/23  1233535475980307401   \n",
              "3   5450019329     Pickup   12/19/23  1233535475980307401   \n",
              "4  70816321011     Pickup   12/19/23  1233535475980307401   \n",
              "\n",
              "                                       Store_Address  Total_Savings  \\\n",
              "0  King Soopers, 480 N US Highway 287, Lafayette,...          20.66   \n",
              "1  King Soopers, 480 N US Highway 287, Lafayette,...          20.66   \n",
              "2  King Soopers, 480 N US Highway 287, Lafayette,...          20.66   \n",
              "3  King Soopers, 480 N US Highway 287, Lafayette,...          20.66   \n",
              "4  King Soopers, 480 N US Highway 287, Lafayette,...          20.66   \n",
              "\n",
              "   Original_Item_Total  Item_Coupons_Sales  Fulfillment_Fee  Sales_Tax  \\\n",
              "0               196.53              -15.71                0       8.71   \n",
              "1               196.53              -15.71                0       8.71   \n",
              "2               196.53              -15.71                0       8.71   \n",
              "3               196.53              -15.71                0       8.71   \n",
              "4               196.53              -15.71                0       8.71   \n",
              "\n",
              "   Order_Total  Item_Count  Payment_Amount  \n",
              "0       189.53          37          189.53  \n",
              "1       189.53          37          189.53  \n",
              "2       189.53          37          189.53  \n",
              "3       189.53          37          189.53  \n",
              "4       189.53          37          189.53  "
            ],
            "text/html": [
              "\n",
              "  <div id=\"df-6238ec77-0cd9-4b03-acaa-07da48adab94\" class=\"colab-df-container\">\n",
              "    <div>\n",
              "<style scoped>\n",
              "    .dataframe tbody tr th:only-of-type {\n",
              "        vertical-align: middle;\n",
              "    }\n",
              "\n",
              "    .dataframe tbody tr th {\n",
              "        vertical-align: top;\n",
              "    }\n",
              "\n",
              "    .dataframe thead th {\n",
              "        text-align: right;\n",
              "    }\n",
              "</style>\n",
              "<table border=\"1\" class=\"dataframe\">\n",
              "  <thead>\n",
              "    <tr style=\"text-align: right;\">\n",
              "      <th></th>\n",
              "      <th>Item Details</th>\n",
              "      <th>Amount</th>\n",
              "      <th>Quantity</th>\n",
              "      <th>Sale_Price</th>\n",
              "      <th>UPC_Code</th>\n",
              "      <th>Order_Type</th>\n",
              "      <th>Order_Date</th>\n",
              "      <th>Order_Number</th>\n",
              "      <th>Store_Address</th>\n",
              "      <th>Total_Savings</th>\n",
              "      <th>Original_Item_Total</th>\n",
              "      <th>Item_Coupons_Sales</th>\n",
              "      <th>Fulfillment_Fee</th>\n",
              "      <th>Sales_Tax</th>\n",
              "      <th>Order_Total</th>\n",
              "      <th>Item_Count</th>\n",
              "      <th>Payment_Amount</th>\n",
              "    </tr>\n",
              "  </thead>\n",
              "  <tbody>\n",
              "    <tr>\n",
              "      <th>0</th>\n",
              "      <td>Angel SoftÂ¨ Mega Toilet Paper</td>\n",
              "      <td>12.79</td>\n",
              "      <td>1</td>\n",
              "      <td>$12.79 each</td>\n",
              "      <td>3040079423</td>\n",
              "      <td>Pickup</td>\n",
              "      <td>12/19/23</td>\n",
              "      <td>1233535475980307401</td>\n",
              "      <td>King Soopers, 480 N US Highway 287, Lafayette,...</td>\n",
              "      <td>20.66</td>\n",
              "      <td>196.53</td>\n",
              "      <td>-15.71</td>\n",
              "      <td>0</td>\n",
              "      <td>8.71</td>\n",
              "      <td>189.53</td>\n",
              "      <td>37</td>\n",
              "      <td>189.53</td>\n",
              "    </tr>\n",
              "    <tr>\n",
              "      <th>1</th>\n",
              "      <td>Archway Iced Oatmeal Cookies</td>\n",
              "      <td>4.79</td>\n",
              "      <td>1</td>\n",
              "      <td>$4.79 each</td>\n",
              "      <td>2750009533</td>\n",
              "      <td>Pickup</td>\n",
              "      <td>12/19/23</td>\n",
              "      <td>1233535475980307401</td>\n",
              "      <td>King Soopers, 480 N US Highway 287, Lafayette,...</td>\n",
              "      <td>20.66</td>\n",
              "      <td>196.53</td>\n",
              "      <td>-15.71</td>\n",
              "      <td>0</td>\n",
              "      <td>8.71</td>\n",
              "      <td>189.53</td>\n",
              "      <td>37</td>\n",
              "      <td>189.53</td>\n",
              "    </tr>\n",
              "    <tr>\n",
              "      <th>2</th>\n",
              "      <td>Ball Park White Hot Dog Buns</td>\n",
              "      <td>3.99</td>\n",
              "      <td>1</td>\n",
              "      <td>$3.99 each</td>\n",
              "      <td>5040075116</td>\n",
              "      <td>Pickup</td>\n",
              "      <td>12/19/23</td>\n",
              "      <td>1233535475980307401</td>\n",
              "      <td>King Soopers, 480 N US Highway 287, Lafayette,...</td>\n",
              "      <td>20.66</td>\n",
              "      <td>196.53</td>\n",
              "      <td>-15.71</td>\n",
              "      <td>0</td>\n",
              "      <td>8.71</td>\n",
              "      <td>189.53</td>\n",
              "      <td>37</td>\n",
              "      <td>189.53</td>\n",
              "    </tr>\n",
              "    <tr>\n",
              "      <th>3</th>\n",
              "      <td>Ball ParkÂ¨ Bun Size Beef Franks</td>\n",
              "      <td>3.50</td>\n",
              "      <td>1</td>\n",
              "      <td>$6.49 each</td>\n",
              "      <td>5450019329</td>\n",
              "      <td>Pickup</td>\n",
              "      <td>12/19/23</td>\n",
              "      <td>1233535475980307401</td>\n",
              "      <td>King Soopers, 480 N US Highway 287, Lafayette,...</td>\n",
              "      <td>20.66</td>\n",
              "      <td>196.53</td>\n",
              "      <td>-15.71</td>\n",
              "      <td>0</td>\n",
              "      <td>8.71</td>\n",
              "      <td>189.53</td>\n",
              "      <td>37</td>\n",
              "      <td>189.53</td>\n",
              "    </tr>\n",
              "    <tr>\n",
              "      <th>4</th>\n",
              "      <td>Boulder CanyonÂ¨ BBQ Chips</td>\n",
              "      <td>3.99</td>\n",
              "      <td>1</td>\n",
              "      <td>$4.29 each</td>\n",
              "      <td>70816321011</td>\n",
              "      <td>Pickup</td>\n",
              "      <td>12/19/23</td>\n",
              "      <td>1233535475980307401</td>\n",
              "      <td>King Soopers, 480 N US Highway 287, Lafayette,...</td>\n",
              "      <td>20.66</td>\n",
              "      <td>196.53</td>\n",
              "      <td>-15.71</td>\n",
              "      <td>0</td>\n",
              "      <td>8.71</td>\n",
              "      <td>189.53</td>\n",
              "      <td>37</td>\n",
              "      <td>189.53</td>\n",
              "    </tr>\n",
              "  </tbody>\n",
              "</table>\n",
              "</div>\n",
              "    <div class=\"colab-df-buttons\">\n",
              "\n",
              "  <div class=\"colab-df-container\">\n",
              "    <button class=\"colab-df-convert\" onclick=\"convertToInteractive('df-6238ec77-0cd9-4b03-acaa-07da48adab94')\"\n",
              "            title=\"Convert this dataframe to an interactive table.\"\n",
              "            style=\"display:none;\">\n",
              "\n",
              "  <svg xmlns=\"http://www.w3.org/2000/svg\" height=\"24px\" viewBox=\"0 -960 960 960\">\n",
              "    <path d=\"M120-120v-720h720v720H120Zm60-500h600v-160H180v160Zm220 220h160v-160H400v160Zm0 220h160v-160H400v160ZM180-400h160v-160H180v160Zm440 0h160v-160H620v160ZM180-180h160v-160H180v160Zm440 0h160v-160H620v160Z\"/>\n",
              "  </svg>\n",
              "    </button>\n",
              "\n",
              "  <style>\n",
              "    .colab-df-container {\n",
              "      display:flex;\n",
              "      gap: 12px;\n",
              "    }\n",
              "\n",
              "    .colab-df-convert {\n",
              "      background-color: #E8F0FE;\n",
              "      border: none;\n",
              "      border-radius: 50%;\n",
              "      cursor: pointer;\n",
              "      display: none;\n",
              "      fill: #1967D2;\n",
              "      height: 32px;\n",
              "      padding: 0 0 0 0;\n",
              "      width: 32px;\n",
              "    }\n",
              "\n",
              "    .colab-df-convert:hover {\n",
              "      background-color: #E2EBFA;\n",
              "      box-shadow: 0px 1px 2px rgba(60, 64, 67, 0.3), 0px 1px 3px 1px rgba(60, 64, 67, 0.15);\n",
              "      fill: #174EA6;\n",
              "    }\n",
              "\n",
              "    .colab-df-buttons div {\n",
              "      margin-bottom: 4px;\n",
              "    }\n",
              "\n",
              "    [theme=dark] .colab-df-convert {\n",
              "      background-color: #3B4455;\n",
              "      fill: #D2E3FC;\n",
              "    }\n",
              "\n",
              "    [theme=dark] .colab-df-convert:hover {\n",
              "      background-color: #434B5C;\n",
              "      box-shadow: 0px 1px 3px 1px rgba(0, 0, 0, 0.15);\n",
              "      filter: drop-shadow(0px 1px 2px rgba(0, 0, 0, 0.3));\n",
              "      fill: #FFFFFF;\n",
              "    }\n",
              "  </style>\n",
              "\n",
              "    <script>\n",
              "      const buttonEl =\n",
              "        document.querySelector('#df-6238ec77-0cd9-4b03-acaa-07da48adab94 button.colab-df-convert');\n",
              "      buttonEl.style.display =\n",
              "        google.colab.kernel.accessAllowed ? 'block' : 'none';\n",
              "\n",
              "      async function convertToInteractive(key) {\n",
              "        const element = document.querySelector('#df-6238ec77-0cd9-4b03-acaa-07da48adab94');\n",
              "        const dataTable =\n",
              "          await google.colab.kernel.invokeFunction('convertToInteractive',\n",
              "                                                    [key], {});\n",
              "        if (!dataTable) return;\n",
              "\n",
              "        const docLinkHtml = 'Like what you see? Visit the ' +\n",
              "          '<a target=\"_blank\" href=https://colab.research.google.com/notebooks/data_table.ipynb>data table notebook</a>'\n",
              "          + ' to learn more about interactive tables.';\n",
              "        element.innerHTML = '';\n",
              "        dataTable['output_type'] = 'display_data';\n",
              "        await google.colab.output.renderOutput(dataTable, element);\n",
              "        const docLink = document.createElement('div');\n",
              "        docLink.innerHTML = docLinkHtml;\n",
              "        element.appendChild(docLink);\n",
              "      }\n",
              "    </script>\n",
              "  </div>\n",
              "\n",
              "\n",
              "<div id=\"df-0f99f180-34ef-4ab8-870c-f37fe2df71e1\">\n",
              "  <button class=\"colab-df-quickchart\" onclick=\"quickchart('df-0f99f180-34ef-4ab8-870c-f37fe2df71e1')\"\n",
              "            title=\"Suggest charts\"\n",
              "            style=\"display:none;\">\n",
              "\n",
              "<svg xmlns=\"http://www.w3.org/2000/svg\" height=\"24px\"viewBox=\"0 0 24 24\"\n",
              "     width=\"24px\">\n",
              "    <g>\n",
              "        <path d=\"M19 3H5c-1.1 0-2 .9-2 2v14c0 1.1.9 2 2 2h14c1.1 0 2-.9 2-2V5c0-1.1-.9-2-2-2zM9 17H7v-7h2v7zm4 0h-2V7h2v10zm4 0h-2v-4h2v4z\"/>\n",
              "    </g>\n",
              "</svg>\n",
              "  </button>\n",
              "\n",
              "<style>\n",
              "  .colab-df-quickchart {\n",
              "      --bg-color: #E8F0FE;\n",
              "      --fill-color: #1967D2;\n",
              "      --hover-bg-color: #E2EBFA;\n",
              "      --hover-fill-color: #174EA6;\n",
              "      --disabled-fill-color: #AAA;\n",
              "      --disabled-bg-color: #DDD;\n",
              "  }\n",
              "\n",
              "  [theme=dark] .colab-df-quickchart {\n",
              "      --bg-color: #3B4455;\n",
              "      --fill-color: #D2E3FC;\n",
              "      --hover-bg-color: #434B5C;\n",
              "      --hover-fill-color: #FFFFFF;\n",
              "      --disabled-bg-color: #3B4455;\n",
              "      --disabled-fill-color: #666;\n",
              "  }\n",
              "\n",
              "  .colab-df-quickchart {\n",
              "    background-color: var(--bg-color);\n",
              "    border: none;\n",
              "    border-radius: 50%;\n",
              "    cursor: pointer;\n",
              "    display: none;\n",
              "    fill: var(--fill-color);\n",
              "    height: 32px;\n",
              "    padding: 0;\n",
              "    width: 32px;\n",
              "  }\n",
              "\n",
              "  .colab-df-quickchart:hover {\n",
              "    background-color: var(--hover-bg-color);\n",
              "    box-shadow: 0 1px 2px rgba(60, 64, 67, 0.3), 0 1px 3px 1px rgba(60, 64, 67, 0.15);\n",
              "    fill: var(--button-hover-fill-color);\n",
              "  }\n",
              "\n",
              "  .colab-df-quickchart-complete:disabled,\n",
              "  .colab-df-quickchart-complete:disabled:hover {\n",
              "    background-color: var(--disabled-bg-color);\n",
              "    fill: var(--disabled-fill-color);\n",
              "    box-shadow: none;\n",
              "  }\n",
              "\n",
              "  .colab-df-spinner {\n",
              "    border: 2px solid var(--fill-color);\n",
              "    border-color: transparent;\n",
              "    border-bottom-color: var(--fill-color);\n",
              "    animation:\n",
              "      spin 1s steps(1) infinite;\n",
              "  }\n",
              "\n",
              "  @keyframes spin {\n",
              "    0% {\n",
              "      border-color: transparent;\n",
              "      border-bottom-color: var(--fill-color);\n",
              "      border-left-color: var(--fill-color);\n",
              "    }\n",
              "    20% {\n",
              "      border-color: transparent;\n",
              "      border-left-color: var(--fill-color);\n",
              "      border-top-color: var(--fill-color);\n",
              "    }\n",
              "    30% {\n",
              "      border-color: transparent;\n",
              "      border-left-color: var(--fill-color);\n",
              "      border-top-color: var(--fill-color);\n",
              "      border-right-color: var(--fill-color);\n",
              "    }\n",
              "    40% {\n",
              "      border-color: transparent;\n",
              "      border-right-color: var(--fill-color);\n",
              "      border-top-color: var(--fill-color);\n",
              "    }\n",
              "    60% {\n",
              "      border-color: transparent;\n",
              "      border-right-color: var(--fill-color);\n",
              "    }\n",
              "    80% {\n",
              "      border-color: transparent;\n",
              "      border-right-color: var(--fill-color);\n",
              "      border-bottom-color: var(--fill-color);\n",
              "    }\n",
              "    90% {\n",
              "      border-color: transparent;\n",
              "      border-bottom-color: var(--fill-color);\n",
              "    }\n",
              "  }\n",
              "</style>\n",
              "\n",
              "  <script>\n",
              "    async function quickchart(key) {\n",
              "      const quickchartButtonEl =\n",
              "        document.querySelector('#' + key + ' button');\n",
              "      quickchartButtonEl.disabled = true;  // To prevent multiple clicks.\n",
              "      quickchartButtonEl.classList.add('colab-df-spinner');\n",
              "      try {\n",
              "        const charts = await google.colab.kernel.invokeFunction(\n",
              "            'suggestCharts', [key], {});\n",
              "      } catch (error) {\n",
              "        console.error('Error during call to suggestCharts:', error);\n",
              "      }\n",
              "      quickchartButtonEl.classList.remove('colab-df-spinner');\n",
              "      quickchartButtonEl.classList.add('colab-df-quickchart-complete');\n",
              "    }\n",
              "    (() => {\n",
              "      let quickchartButtonEl =\n",
              "        document.querySelector('#df-0f99f180-34ef-4ab8-870c-f37fe2df71e1 button');\n",
              "      quickchartButtonEl.style.display =\n",
              "        google.colab.kernel.accessAllowed ? 'block' : 'none';\n",
              "    })();\n",
              "  </script>\n",
              "</div>\n",
              "    </div>\n",
              "  </div>\n"
            ]
          },
          "metadata": {},
          "execution_count": 82
        }
      ],
      "source": [
        "# Import Data with specified data types for UPC_Code and Order_Number\n",
        "receipts_df = pd.read_csv('/content/receipt_data.csv', encoding='ISO-8859-1',\n",
        "                          dtype={'UPC_Code': str, 'Order_Number': str})\n",
        "receipts_df.head()"
      ]
    },
    {
      "cell_type": "markdown",
      "source": [
        "## View\n",
        "- Output information about the receipts_df dataframe\n",
        "- Show count of UPC_Codes\n",
        "- Show unique Item_Details\n",
        "- Show count of unique Item_Details"
      ],
      "metadata": {
        "id": "nhsxs2_UWxQi"
      },
      "id": "nhsxs2_UWxQi"
    },
    {
      "cell_type": "code",
      "source": [
        "# Output information about the receipts_df dataframe\n",
        "receipts_df.info()"
      ],
      "metadata": {
        "id": "gdmdGuhQxv1c"
      },
      "id": "gdmdGuhQxv1c",
      "execution_count": null,
      "outputs": []
    },
    {
      "cell_type": "code",
      "execution_count": null,
      "id": "d8ccfe09",
      "metadata": {
        "execution": {
          "iopub.execute_input": "2024-01-08T18:26:20.398189Z",
          "iopub.status.busy": "2024-01-08T18:26:20.397480Z",
          "iopub.status.idle": "2024-01-08T18:26:20.438657Z",
          "shell.execute_reply": "2024-01-08T18:26:20.437419Z"
        },
        "id": "d8ccfe09",
        "papermill": {
          "duration": 0.056187,
          "end_time": "2024-01-08T18:26:20.441731",
          "exception": false,
          "start_time": "2024-01-08T18:26:20.385544",
          "status": "completed"
        },
        "tags": []
      },
      "outputs": [],
      "source": [
        "# Show count of UPC_Codes\n",
        "receipts_df['UPC_Code'].nunique()"
      ]
    },
    {
      "cell_type": "code",
      "source": [
        "# Show count of unique Item_Details\n",
        "receipts_df['Item Details'].nunique()"
      ],
      "metadata": {
        "colab": {
          "base_uri": "https://localhost:8080/"
        },
        "id": "bCsBf90byKvN",
        "executionInfo": {
          "status": "ok",
          "timestamp": 1705518177542,
          "user_tz": 420,
          "elapsed": 129,
          "user": {
            "displayName": "",
            "userId": ""
          }
        },
        "outputId": "9dd7c995-aa7e-4573-a98b-a4161cf9e995"
      },
      "id": "bCsBf90byKvN",
      "execution_count": 69,
      "outputs": [
        {
          "output_type": "execute_result",
          "data": {
            "text/plain": [
              "353"
            ]
          },
          "metadata": {},
          "execution_count": 69
        }
      ]
    },
    {
      "cell_type": "code",
      "source": [
        "# Show unique Item_Details\n",
        "receipts_df['Item Details'].unique()"
      ],
      "metadata": {
        "id": "BvXlGb9VkOQI"
      },
      "id": "BvXlGb9VkOQI",
      "execution_count": null,
      "outputs": []
    },
    {
      "cell_type": "markdown",
      "source": [
        "**Duet AI** should have generated the following:\n",
        "- `receipts_df.info()`\n",
        "- `receipts_df['UPC_Code'].nunique()`\n",
        "- `receipts_df['Item Details'].nunique()`\n",
        "- `receipts_df['Item Details'].unique()`"
      ],
      "metadata": {
        "id": "pDRUGuMUxqUt"
      },
      "id": "pDRUGuMUxqUt"
    },
    {
      "cell_type": "markdown",
      "source": [
        "## Modify\n",
        "- Modify the data so that the Item Details is now Item_Details\n",
        "- Convert Order_Date from string to date with the correct format 'MM/DD/YY' and display the dataframe"
      ],
      "metadata": {
        "id": "K_fc37ZFWftH"
      },
      "id": "K_fc37ZFWftH"
    },
    {
      "cell_type": "code",
      "source": [
        "# Modify the data so that the Item Details is now Item_Details\n",
        "receipts_df.rename(columns={'Item Details': 'Item_Details'}, inplace=True)"
      ],
      "metadata": {
        "id": "J_b2FkFBxR08",
        "executionInfo": {
          "status": "ok",
          "timestamp": 1705518158724,
          "user_tz": 420,
          "elapsed": 147,
          "user": {
            "displayName": "",
            "userId": ""
          }
        }
      },
      "id": "J_b2FkFBxR08",
      "execution_count": 65,
      "outputs": []
    },
    {
      "cell_type": "code",
      "source": [
        "# Show count of unique Item_Details\n",
        "receipts_df['Item_Details'].nunique()"
      ],
      "metadata": {
        "id": "j4K9msFJjbOQ"
      },
      "id": "j4K9msFJjbOQ",
      "execution_count": null,
      "outputs": []
    },
    {
      "cell_type": "code",
      "source": [
        "# Convert Order_Date from string to date with the correct format 'MM/DD/YY' and display the dataframe\n",
        "receipts_df['Order_Date'] = pd.to_datetime(receipts_df['Order_Date'], format='%m/%d/%y')\n",
        "receipts_df.head()"
      ],
      "metadata": {
        "id": "Qlt9RXUGx7h3"
      },
      "id": "Qlt9RXUGx7h3",
      "execution_count": null,
      "outputs": []
    },
    {
      "cell_type": "markdown",
      "source": [
        "**Duet AI** should have generated the following:\n",
        "- `receipts_df.rename(columns={'Item Details': 'Item_Details'}, inplace=True)`\n",
        "- `receipts_df['Order_Date'] = pd.to_datetime(receipts_df['Order_Date'], format='%m/%d/%y')\n",
        "receipts_df.head()`"
      ],
      "metadata": {
        "id": "Qxg_rotnzES8"
      },
      "id": "Qxg_rotnzES8"
    },
    {
      "cell_type": "markdown",
      "source": [
        "## Examine\n",
        "\n",
        "- Describe the receipts_df dataframe with `.T`\n",
        "- Display items with an amount greater than 4.64\n",
        "- Count of Item_Details\n",
        "- Show UPC Code that Have Been Purchased More Than Once\n",
        "- Calculate the average Total Savings for all orders and display as dollars"
      ],
      "metadata": {
        "id": "7JT7BycTZvNh"
      },
      "id": "7JT7BycTZvNh"
    },
    {
      "cell_type": "code",
      "execution_count": null,
      "id": "331b7737",
      "metadata": {
        "execution": {
          "iopub.execute_input": "2024-01-08T18:26:20.464617Z",
          "iopub.status.busy": "2024-01-08T18:26:20.464133Z",
          "iopub.status.idle": "2024-01-08T18:26:20.536782Z",
          "shell.execute_reply": "2024-01-08T18:26:20.535492Z"
        },
        "id": "331b7737",
        "papermill": {
          "duration": 0.087599,
          "end_time": "2024-01-08T18:26:20.539522",
          "exception": false,
          "start_time": "2024-01-08T18:26:20.451923",
          "status": "completed"
        },
        "tags": []
      },
      "outputs": [],
      "source": []
    },
    {
      "cell_type": "code",
      "execution_count": null,
      "id": "8a8249fb",
      "metadata": {
        "execution": {
          "iopub.execute_input": "2024-01-08T18:26:20.563721Z",
          "iopub.status.busy": "2024-01-08T18:26:20.562592Z",
          "iopub.status.idle": "2024-01-08T18:26:20.570853Z",
          "shell.execute_reply": "2024-01-08T18:26:20.569451Z"
        },
        "id": "8a8249fb",
        "papermill": {
          "duration": 0.022858,
          "end_time": "2024-01-08T18:26:20.573359",
          "exception": false,
          "start_time": "2024-01-08T18:26:20.550501",
          "status": "completed"
        },
        "tags": []
      },
      "outputs": [],
      "source": []
    },
    {
      "cell_type": "code",
      "source": [],
      "metadata": {
        "id": "oI26ERQShii6"
      },
      "id": "oI26ERQShii6",
      "execution_count": null,
      "outputs": []
    },
    {
      "cell_type": "code",
      "source": [],
      "metadata": {
        "id": "tg4tQJcDjlGI"
      },
      "id": "tg4tQJcDjlGI",
      "execution_count": null,
      "outputs": []
    },
    {
      "cell_type": "code",
      "source": [],
      "metadata": {
        "id": "mkqAw224OCr2"
      },
      "id": "mkqAw224OCr2",
      "execution_count": null,
      "outputs": []
    },
    {
      "cell_type": "markdown",
      "source": [
        "**Duet AI** Should Have Generated the Following\n",
        "- `receipts_df.describe().T`\n",
        "- `receipts_df[receipts_df['Amount'] > 4.64]`\n",
        "- `receipts_df['Item_Details'].value_counts()`\n",
        "- `receipts_df['UPC_Code'].value_counts()[receipts_df['UPC_Code'].value_counts() > 1]`\n",
        "- `average_total_savings = receipts_df['Total_Savings'].mean().round(2)\n",
        "formatted_average = f\"${average_total_savings}\"\n",
        "print(formatted_average)`"
      ],
      "metadata": {
        "id": "2tagfINlz1YG"
      },
      "id": "2tagfINlz1YG"
    },
    {
      "cell_type": "code",
      "source": [
        "# Group by Order_Date, then count the Item_Details for each date\n",
        "order_item_counts = receipts_df.groupby('Order_Date')['Item_Details'].count().reset_index()\n",
        "\n",
        "# Rename the columns for clarity\n",
        "order_item_counts.columns = ['Order_Date', 'Item_Count']\n",
        "\n",
        "# Sort the DataFrame by Order_Date in descending order (most recent date first)\n",
        "order_item_counts = order_item_counts.sort_values(by='Order_Date', ascending=False)\n",
        "\n",
        "# Display the DataFrame\n",
        "order_item_counts"
      ],
      "metadata": {
        "id": "gqcApveKrrsa"
      },
      "id": "gqcApveKrrsa",
      "execution_count": null,
      "outputs": []
    },
    {
      "cell_type": "code",
      "execution_count": null,
      "id": "479c8b32",
      "metadata": {
        "execution": {
          "iopub.execute_input": "2024-01-08T18:26:20.597142Z",
          "iopub.status.busy": "2024-01-08T18:26:20.596756Z",
          "iopub.status.idle": "2024-01-08T18:26:20.616366Z",
          "shell.execute_reply": "2024-01-08T18:26:20.615241Z"
        },
        "id": "479c8b32",
        "papermill": {
          "duration": 0.034437,
          "end_time": "2024-01-08T18:26:20.618778",
          "exception": false,
          "start_time": "2024-01-08T18:26:20.584341",
          "status": "completed"
        },
        "tags": []
      },
      "outputs": [],
      "source": [
        "# Group by Order_Date and Order_Number, then calculate the mean of Amount\n",
        "average_amount_by_date_order = receipts_df.groupby(['Order_Date', 'Order_Number'])['Amount'].mean().reset_index()\n",
        "\n",
        "# Format the amounts to include a dollar sign\n",
        "average_amount_by_date_order['Formatted_Amount'] = average_amount_by_date_order['Amount'].map('${:,.2f}'.format)\n",
        "\n",
        "# Sort the DataFrame by Order_Date in descending order (most recent date first)\n",
        "average_amount_by_date_order = average_amount_by_date_order.sort_values(by='Order_Date', ascending=False)\n",
        "\n",
        "# Display the DataFrame\n",
        "average_amount_by_date_order"
      ]
    },
    {
      "cell_type": "markdown",
      "source": [
        "## Visualize\n"
      ],
      "metadata": {
        "id": "XChkQm0Gb7RS"
      },
      "id": "XChkQm0Gb7RS"
    },
    {
      "cell_type": "markdown",
      "source": [
        "- Using matplotlib generate code to display a smooth time series graph of each order (using order date) and the Payment Amount"
      ],
      "metadata": {
        "id": "QhZ4DMsRhccX"
      },
      "id": "QhZ4DMsRhccX"
    },
    {
      "cell_type": "code",
      "source": [
        "# Using matplotlib generate code to display a smooth time series graph of each order (using order date) and the Payment Amount\n",
        "receipts_df.plot(x='Order_Date', y='Payment_Amount', kind='line')"
      ],
      "metadata": {
        "id": "VXFceyUHhg-1"
      },
      "id": "VXFceyUHhg-1",
      "execution_count": null,
      "outputs": []
    },
    {
      "cell_type": "markdown",
      "source": [
        "### Item Count Over Time"
      ],
      "metadata": {
        "id": "rWQm1juV09L-"
      },
      "id": "rWQm1juV09L-"
    },
    {
      "source": [
        "from matplotlib import pyplot as plt\n",
        "import seaborn as sns\n",
        "def _plot_series(series, series_name, series_index=0):\n",
        "  from matplotlib import pyplot as plt\n",
        "  import seaborn as sns\n",
        "  palette = list(sns.palettes.mpl_palette('Dark2'))\n",
        "  xs = series['Order_Date']\n",
        "  ys = series['Item_Count']\n",
        "\n",
        "  plt.plot(xs, ys, label=series_name, color=palette[series_index % len(palette)])\n",
        "\n",
        "fig, ax = plt.subplots(figsize=(10, 5.2), layout='constrained')\n",
        "df_sorted = order_item_counts.sort_values('Order_Date', ascending=True)\n",
        "_plot_series(df_sorted, '')\n",
        "sns.despine(fig=fig, ax=ax)\n",
        "plt.xlabel('Order_Date')\n",
        "_ = plt.ylabel('Item_Count')"
      ],
      "cell_type": "code",
      "metadata": {
        "id": "LHve0gxAJJzc"
      },
      "id": "LHve0gxAJJzc",
      "execution_count": null,
      "outputs": []
    },
    {
      "cell_type": "markdown",
      "source": [
        "### Item Count Over Time w/ a Trend Line"
      ],
      "metadata": {
        "id": "BvoGxYNN02z6"
      },
      "id": "BvoGxYNN02z6"
    },
    {
      "cell_type": "code",
      "source": [
        "from matplotlib import pyplot as plt\n",
        "import seaborn as sns\n",
        "import numpy as np\n",
        "import pandas as pd\n",
        "import datetime\n",
        "\n",
        "# Convert Order_Date to datetime format if it's not already\n",
        "receipts_df['Order_Date'] = pd.to_datetime(receipts_df['Order_Date'])\n",
        "\n",
        "def _plot_series(series, series_name, series_index=0):\n",
        "    palette = list(sns.palettes.mpl_palette('Dark2'))\n",
        "    xs = series['Order_Date']\n",
        "    ys = series['Item_Count']\n",
        "\n",
        "    plt.plot(xs, ys, label=series_name, color=palette[series_index % len(palette)])\n",
        "\n",
        "    # Fitting a linear trend line\n",
        "    z = np.polyfit(pd.to_datetime(xs).map(datetime.datetime.toordinal), ys, 1)\n",
        "    p = np.poly1d(z)\n",
        "    plt.plot(xs, p(pd.to_datetime(xs).map(datetime.datetime.toordinal)), \"--\", color=palette[series_index % len(palette)], label=f'{series_name} Trend Line')\n",
        "\n",
        "fig, ax = plt.subplots(figsize=(10, 5.2), layout='constrained')\n",
        "df_sorted = order_item_counts.sort_values('Order_Date', ascending=True)\n",
        "_plot_series(df_sorted, 'Item Count')\n",
        "sns.despine(fig=fig, ax=ax)\n",
        "plt.xlabel('Order Date')\n",
        "plt.ylabel('Item Count')\n",
        "plt.legend()\n",
        "plt.show()\n"
      ],
      "metadata": {
        "id": "ItOoFNssJX2t"
      },
      "id": "ItOoFNssJX2t",
      "execution_count": null,
      "outputs": []
    },
    {
      "cell_type": "markdown",
      "source": [
        "### Average Item Price By Order Date"
      ],
      "metadata": {
        "id": "2wQ8wgXl1Fhj"
      },
      "id": "2wQ8wgXl1Fhj"
    },
    {
      "cell_type": "code",
      "source": [
        "import matplotlib.pyplot as plt\n",
        "import matplotlib.ticker as mtick\n",
        "\n",
        "# Ensure that Order_Date is in datetime format\n",
        "receipts_df['Order_Date'] = pd.to_datetime(receipts_df['Order_Date'])\n",
        "\n",
        "# Group by Order_Date and calculate the mean of Amount, then sort by Order_Date\n",
        "sorted_average_amount_by_date = receipts_df.groupby('Order_Date')['Amount'].mean().sort_index()\n",
        "\n",
        "# Plotting the time series\n",
        "fig, ax = plt.subplots()\n",
        "sorted_average_amount_by_date.plot(ax=ax, kind='bar')\n",
        "\n",
        "# Format y-axis to show dollar sign and two decimal places\n",
        "fmt = '${x:,.2f}'\n",
        "tick = mtick.StrMethodFormatter(fmt)\n",
        "ax.yaxis.set_major_formatter(tick)\n",
        "\n",
        "# Set labels\n",
        "ax.set_xlabel('Order Date')\n",
        "ax.set_ylabel('Average Amount')\n",
        "ax.set_title('Average Amount by Order Date (Chronologically)')\n",
        "\n",
        "# Show the plot\n",
        "plt.show()\n"
      ],
      "metadata": {
        "id": "QJwfqu5NvR7s"
      },
      "id": "QJwfqu5NvR7s",
      "execution_count": null,
      "outputs": []
    },
    {
      "cell_type": "markdown",
      "source": [
        "### Payment Amount Over Time w/ a Trend Line"
      ],
      "metadata": {
        "id": "ePoPYviA1Tl1"
      },
      "id": "ePoPYviA1Tl1"
    },
    {
      "cell_type": "code",
      "source": [
        "# Linear Regression\n",
        "\n",
        "import matplotlib.pyplot as plt\n",
        "import pandas as pd\n",
        "import numpy as np\n",
        "from scipy.stats import linregress\n",
        "\n",
        "# Ensure that Order_Date is in datetime format\n",
        "receipts_df['Order_Date'] = pd.to_datetime(receipts_df['Order_Date'])\n",
        "\n",
        "# Sort by Order_Date\n",
        "receipts_df_sorted = receipts_df.sort_values('Order_Date')\n",
        "\n",
        "# Generate a linear regression line\n",
        "x = np.arange(len(receipts_df_sorted))\n",
        "y = receipts_df_sorted['Payment_Amount']\n",
        "slope, intercept, r_value, p_value, std_err = linregress(x, y)\n",
        "trendline = intercept + slope * x\n",
        "\n",
        "# Plotting the data and the trendline\n",
        "plt.figure(figsize=(10, 5))\n",
        "plt.plot(receipts_df_sorted['Order_Date'], receipts_df_sorted['Payment_Amount'], label='Payment Amount')\n",
        "plt.plot(receipts_df_sorted['Order_Date'], trendline, color='red', label='Trend Line')\n",
        "\n",
        "plt.xlabel('Order Date')\n",
        "plt.ylabel('Payment Amount')\n",
        "plt.title('Payment Amount Over Time with Trend Line')\n",
        "plt.legend()\n",
        "plt.show()\n"
      ],
      "metadata": {
        "id": "JHUOi_jjx5h2"
      },
      "id": "JHUOi_jjx5h2",
      "execution_count": null,
      "outputs": []
    },
    {
      "cell_type": "markdown",
      "source": [
        "### Cumulative Amount Increase for Top 10 Items Over Time"
      ],
      "metadata": {
        "id": "LkguNWf01d6t"
      },
      "id": "LkguNWf01d6t"
    },
    {
      "cell_type": "code",
      "source": [
        "import matplotlib.pyplot as plt\n",
        "import pandas as pd\n",
        "\n",
        "# Ensure Order_Date is a datetime\n",
        "receipts_df['Order_Date'] = pd.to_datetime(receipts_df['Order_Date'])\n",
        "\n",
        "# Identify the top 10 most purchased items based on frequency or total amount\n",
        "top_items = receipts_df.groupby('Item_Details')['Amount'].sum().nlargest(10).index\n",
        "\n",
        "# Filter the DataFrame for only these top 10 items\n",
        "top_10_df = receipts_df[receipts_df['Item_Details'].isin(top_items)]\n",
        "\n",
        "# Group by Item_Details and Order_Date and sum the Amount\n",
        "grouped_data = top_10_df.groupby(['Item_Details', 'Order_Date'])['Amount'].sum().reset_index()\n",
        "\n",
        "# Pivot the data\n",
        "pivoted_data = grouped_data.pivot(index='Order_Date', columns='Item_Details', values='Amount').fillna(0)\n",
        "\n",
        "# Calculate the cumulative sum over time for each item\n",
        "cumulative_data = pivoted_data.cumsum()\n",
        "\n",
        "# Plotting\n",
        "plt.figure(figsize=(15, 8))\n",
        "for column in cumulative_data.columns:\n",
        "    plt.plot(cumulative_data.index, cumulative_data[column], label=column)\n",
        "\n",
        "plt.xlabel('Order Date')\n",
        "plt.ylabel('Cumulative Amount')\n",
        "plt.title('Cumulative Amount Increase for Top 10 Items Over Time')\n",
        "plt.legend(title='Item Details', bbox_to_anchor=(1.05, 1), loc='upper left')\n",
        "plt.xticks(rotation=45)\n",
        "plt.tight_layout()\n",
        "plt.show()\n"
      ],
      "metadata": {
        "id": "lrSw4d_r0hUu"
      },
      "id": "lrSw4d_r0hUu",
      "execution_count": null,
      "outputs": []
    },
    {
      "cell_type": "markdown",
      "source": [
        "### Purchases of UPC Code Over Time with Trend Line"
      ],
      "metadata": {
        "id": "H2H_-IbF1s4y"
      },
      "id": "H2H_-IbF1s4y"
    },
    {
      "cell_type": "code",
      "source": [
        "import matplotlib.pyplot as plt\n",
        "import pandas as pd\n",
        "import numpy as np\n",
        "import matplotlib.dates as mdates\n",
        "\n",
        "# Convert Order_Date to a datetime format if not already\n",
        "receipts_df['Order_Date'] = pd.to_datetime(receipts_df['Order_Date'])\n",
        "\n",
        "# Filter for the specific UPC Code\n",
        "specific_upc_df = receipts_df[receipts_df['UPC_Code'] == '2100065893']\n",
        "\n",
        "# Group by Order_Date and sum the Amount\n",
        "grouped_data = specific_upc_df.groupby('Order_Date')['Amount'].sum().reset_index()\n",
        "\n",
        "# Plotting\n",
        "plt.figure(figsize=(12, 6))\n",
        "plt.plot(grouped_data['Order_Date'], grouped_data['Amount'], marker='o', linestyle='-', label='Amount')\n",
        "\n",
        "# Add labels for each data point\n",
        "for i in range(len(grouped_data)):\n",
        "    plt.text(grouped_data['Order_Date'][i], grouped_data['Amount'][i], f'{grouped_data[\"Amount\"][i]:.2f}',\n",
        "             ha='center', va='bottom')\n",
        "\n",
        "# Fitting a linear trend line\n",
        "z = np.polyfit(mdates.date2num(grouped_data['Order_Date']), grouped_data['Amount'], 1)\n",
        "p = np.poly1d(z)\n",
        "plt.plot(grouped_data['Order_Date'], p(mdates.date2num(grouped_data['Order_Date'])), \"r--\", label='Trend Line')\n",
        "\n",
        "plt.xlabel('Order Date')\n",
        "plt.ylabel('Amount')\n",
        "plt.title('Purchases of UPC Code Over Time with Trend Line')\n",
        "plt.xticks(rotation=45)\n",
        "plt.grid(True)\n",
        "plt.legend()\n",
        "plt.tight_layout()\n",
        "plt.show()\n"
      ],
      "metadata": {
        "id": "vXWaPa-E3jzI"
      },
      "id": "vXWaPa-E3jzI",
      "execution_count": null,
      "outputs": []
    },
    {
      "cell_type": "markdown",
      "source": [
        "### Total Savings Over Time"
      ],
      "metadata": {
        "id": "WqcXj_wP1zLU"
      },
      "id": "WqcXj_wP1zLU"
    },
    {
      "cell_type": "code",
      "source": [
        "plt.figure(figsize=(12, 6))\n",
        "sns.lineplot(data=receipts_df, x='Order_Date', y='Total_Savings', color='#a29bfe')\n",
        "plt.xlabel('Order Date')\n",
        "plt.ylabel('Total Savings')\n",
        "plt.title('Total Savings Over Time')\n",
        "plt.show()\n"
      ],
      "metadata": {
        "id": "y4iqtro7Fskz"
      },
      "id": "y4iqtro7Fskz",
      "execution_count": null,
      "outputs": []
    }
  ],
  "metadata": {
    "colab": {
      "provenance": []
    },
    "kaggle": {
      "accelerator": "none",
      "dataSources": [
        {
          "datasetId": 4058957,
          "sourceId": 7052436,
          "sourceType": "datasetVersion"
        }
      ],
      "dockerImageVersionId": 30626,
      "isGpuEnabled": false,
      "isInternetEnabled": true,
      "language": "python",
      "sourceType": "notebook"
    },
    "kernelspec": {
      "display_name": "Python 3",
      "language": "python",
      "name": "python3"
    },
    "language_info": {
      "codemirror_mode": {
        "name": "ipython",
        "version": 3
      },
      "file_extension": ".py",
      "mimetype": "text/x-python",
      "name": "python",
      "nbconvert_exporter": "python",
      "pygments_lexer": "ipython3",
      "version": "3.10.12"
    },
    "papermill": {
      "default_parameters": {},
      "duration": 28.270231,
      "end_time": "2024-01-08T18:26:41.535760",
      "environment_variables": {},
      "exception": null,
      "input_path": "__notebook__.ipynb",
      "output_path": "__notebook__.ipynb",
      "parameters": {},
      "start_time": "2024-01-08T18:26:13.265529",
      "version": "2.4.0"
    }
  },
  "nbformat": 4,
  "nbformat_minor": 5
}