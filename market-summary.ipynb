{
  "cells": [
    {
      "cell_type": "markdown",
      "source": [
        "# Generative AI Financial Market Summary using the Gemini Pro Model"
      ],
      "metadata": {
        "id": "OUf86ZWZh3yc"
      },
      "id": "OUf86ZWZh3yc"
    },
    {
      "cell_type": "markdown",
      "source": [
        "## Environment Setup\n",
        "Install packages.\n",
        ">Secrets (API keys) are **NOT** used in this demo."
      ],
      "metadata": {
        "id": "FCZxXpOiR-SC"
      },
      "id": "FCZxXpOiR-SC"
    },
    {
      "cell_type": "code",
      "source": [
        "!pip install --upgrade google-cloud-aiplatform\n",
        "!pip install yfinance"
      ],
      "metadata": {
        "id": "bBOBWrU4M9pT"
      },
      "id": "bBOBWrU4M9pT",
      "execution_count": null,
      "outputs": []
    },
    {
      "cell_type": "markdown",
      "source": [
        "## Call Model with Tickers and Prompt\n",
        "\n",
        "Import packages, set variables.\n",
        "\n",
        ">This demo uses the **Gemini Pro** model which has a much smaller context window limit. Changes to the tickers may trigger an error related to this. The code for using a different model isn't as simple as changing the model name in the variable. So, simply changing it to `text-bison@002` will break the demo.\n",
        "\n"
      ],
      "metadata": {
        "id": "3hVo3bFdVlnq"
      },
      "id": "3hVo3bFdVlnq"
    },
    {
      "cell_type": "code",
      "source": [
        "# Import necessary libraries\n",
        "import vertexai\n",
        "from vertexai.preview.generative_models import GenerativeModel, Part\n",
        "import yfinance as yf\n",
        "\n",
        "# Define the ticker symbols\n",
        "ticker_symbols = [\"DJIA\", \"NDX\"]  # Add the desired stock symbols\n",
        "\n",
        "# Prompt to send to Vertex AI\n",
        "disclaimer = \"THIS IS NOT FINANCIAL ADVICE. FOR EDUCATIONAL PURPOSES ONLY. Do not take any action based on this information.\\n\"\n",
        "summary_request = \"Summarize all of this information for an investor audience. The output should be a table. The last section of the title should include basic information about the ticker.\"\n",
        "# Language to use\n",
        "language = \"en-US\"\n",
        "# Model name to use\n",
        "model_name = \"gemini-pro\"\n",
        "\n",
        "# Send prompot to model\n",
        "def generate(model_name, full_prompt):\n",
        "    model = GenerativeModel(model_name)\n",
        "    responses = model.generate_content(\n",
        "        full_prompt,  # Using the combined prompt\n",
        "        generation_config={\n",
        "            \"max_output_tokens\": 2048,\n",
        "            \"temperature\": 0.85,\n",
        "            \"top_p\": 1\n",
        "        },\n",
        "        stream=True,\n",
        "    )\n",
        "    for response in responses:\n",
        "        print(response.candidates[0].content.parts[0].text)\n",
        "\n",
        "# Loop through each ticker symbol\n",
        "for ticker_symbol in ticker_symbols:\n",
        "    # Fetch data\n",
        "    stock = yf.Ticker(ticker_symbol)\n",
        "\n",
        "    # Get basic stock information\n",
        "    info = stock.info  # Retrieve and store basic stock information\n",
        "\n",
        "    # Convert all info fields into a string\n",
        "    info_string = \"\\n\".join([f\"{key}: {value}\" for key, value in info.items() if value is not None])\n",
        "\n",
        "    # Get historical market data\n",
        "    hist = stock.history(period=\"1mo\")  # Change the period as needed\n",
        "    hist_string = hist.tail().to_string()  # Convert hist to a string\n",
        "\n",
        "    # Combine everything into a single prompt\n",
        "    full_prompt = disclaimer + summary_request + \"\\n\" \\\n",
        "                  f\"Ticker: {ticker_symbol}\\n\" \\\n",
        "                  f\"Info: {info_string}\\n\" \\\n",
        "                  f\"Recent Stock Data:\\n{hist_string}\\n\"\n",
        "\n",
        "    # Add a separator for readability when multiple stocks are displayed\n",
        "    print(\"\\n\" + \"-\"*50 + \"\\n\")\n",
        "\n",
        "    # Call the generate function with the user-defined model name and the full prompt\n",
        "    generate(model_name, full_prompt)\n"
      ],
      "metadata": {
        "id": "DX-cZAwSUJJP"
      },
      "id": "DX-cZAwSUJJP",
      "execution_count": null,
      "outputs": []
    }
  ],
  "metadata": {
    "kernelspec": {
      "display_name": "Python 3",
      "language": "python",
      "name": "python3"
    },
    "language_info": {
      "codemirror_mode": {
        "name": "ipython",
        "version": 3
      },
      "file_extension": ".py",
      "mimetype": "text/x-python",
      "name": "python",
      "nbconvert_exporter": "python",
      "pygments_lexer": "ipython3",
      "version": "3.10.10"
    },
    "colab": {
      "provenance": []
    }
  },
  "nbformat": 4,
  "nbformat_minor": 5
}