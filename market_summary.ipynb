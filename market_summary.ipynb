{
  "cells": [
    {
      "cell_type": "markdown",
      "source": [
        "# Generative AI Financial Market Summary using the Gemini Pro Model"
      ],
      "metadata": {
        "id": "OUf86ZWZh3yc"
      },
      "id": "OUf86ZWZh3yc"
    },
    {
      "cell_type": "markdown",
      "source": [
        "## Environment Setup\n",
        "Install packages.\n",
        ">Secrets (API keys) are **NOT** used in this demo."
      ],
      "metadata": {
        "id": "FCZxXpOiR-SC"
      },
      "id": "FCZxXpOiR-SC"
    },
    {
      "cell_type": "code",
      "source": [
        "!pip install --upgrade google-cloud-aiplatform\n",
        "!pip install yfinance"
      ],
      "metadata": {
        "id": "bBOBWrU4M9pT"
      },
      "id": "bBOBWrU4M9pT",
      "execution_count": null,
      "outputs": []
    },
    {
      "cell_type": "markdown",
      "source": [
        "## Call Model with Tickers and Prompt\n",
        "\n",
        "Import packages, set variables.\n",
        "\n",
        ">This demo uses the **Gemini Pro** model which has a much smaller context window limit. Changes to the tickers may trigger an error related to this. The code for using a different model isn't as simple as changing the model name in the variable. So, simply changing it to `text-bison@002` will break the demo.\n",
        "\n"
      ],
      "metadata": {
        "id": "3hVo3bFdVlnq"
      },
      "id": "3hVo3bFdVlnq"
    },
    {
      "cell_type": "code",
      "source": [
        "# Import necessary libraries\n",
        "import vertexai\n",
        "from vertexai.preview.generative_models import GenerativeModel, Part\n",
        "import yfinance as yf\n",
        "\n",
        "# Define the ticker symbols\n",
        "ticker_symbols = [\"DJIA\", \"NDX\"]  # Add the desired stock symbols\n",
        "\n",
        "# Prompt to send to Vertex AI\n",
        "disclaimer = \"THIS IS NOT FINANCIAL ADVICE. FOR EDUCATIONAL PURPOSES ONLY. Do not take any action based on this information.\\n\"\n",
        "summary_request = \"Summarize all of this information for an investor audience. At the top should be the opening and closing price. Include the 52-week change fields. The output should be a table.\"\n",
        "# Language to use\n",
        "language = \"en-US\"\n",
        "# Model name to use\n",
        "model_name = \"gemini-pro\"\n",
        "\n",
        "# Send prompot to model\n",
        "def generate(model_name, full_prompt):\n",
        "    model = GenerativeModel(model_name)\n",
        "    responses = model.generate_content(\n",
        "        full_prompt,  # Using the combined prompt\n",
        "        generation_config={\n",
        "            \"max_output_tokens\": 2048,\n",
        "            \"temperature\": 0.85,\n",
        "            \"top_p\": 1\n",
        "        },\n",
        "        stream=True,\n",
        "    )\n",
        "    for response in responses:\n",
        "        print(response.candidates[0].content.parts[0].text)\n",
        "\n",
        "# Loop through each ticker symbol\n",
        "for ticker_symbol in ticker_symbols:\n",
        "    # Fetch data\n",
        "    stock = yf.Ticker(ticker_symbol)\n",
        "\n",
        "    # Get basic stock information\n",
        "    info = stock.info  # Retrieve and store basic stock information\n",
        "\n",
        "    # Convert all info fields into a string\n",
        "    info_string = \"\\n\".join([f\"{key}: {value}\" for key, value in info.items() if value is not None])\n",
        "\n",
        "    # Get historical market data\n",
        "    hist = stock.history(period=\"1mo\")  # Change the period as needed\n",
        "    hist_string = hist.tail().to_string()  # Convert hist to a string\n",
        "\n",
        "    # Combine everything into a single prompt\n",
        "    full_prompt = disclaimer + summary_request + \"\\n\" \\\n",
        "                  f\"Ticker: {ticker_symbol}\\n\" \\\n",
        "                  f\"Info: {info_string}\\n\" \\\n",
        "                  f\"Recent Stock Data:\\n{hist_string}\\n\"\n",
        "\n",
        "    # Add a separator for readability when multiple stocks are displayed\n",
        "    print(\"\\n\" + \"-\"*50 + \"\\n\")\n",
        "\n",
        "    # Call the generate function with the user-defined model name and the full prompt\n",
        "    generate(model_name, full_prompt)\n"
      ],
      "metadata": {
        "id": "DX-cZAwSUJJP",
        "colab": {
          "base_uri": "https://localhost:8080/"
        },
        "executionInfo": {
          "status": "ok",
          "timestamp": 1705531854822,
          "user_tz": 420,
          "elapsed": 6237,
          "user": {
            "displayName": "",
            "userId": ""
          }
        },
        "outputId": "e670dd87-8238-4e8a-89ff-a2993a4a39ad"
      },
      "id": "DX-cZAwSUJJP",
      "execution_count": 3,
      "outputs": [
        {
          "output_type": "stream",
          "name": "stdout",
          "text": [
            "\n",
            "--------------------------------------------------\n",
            "\n",
            "| Field | Value |\n",
            "|---|---|\n",
            "| Ticker | DJIA |\n",
            "\n",
            "| Open | 21.96 |\n",
            "| Close | \n",
            "21.936899 |\n",
            "| 52-Week Low | 20.64 |\n",
            "| 52-\n",
            "Week High | 22.602 |\n",
            "| Trailing PE | 19.890776 |\n",
            "| Volume | 12237 |\n",
            "| Average Volume | 27883 |\n",
            "| Average Volume (10 days\n",
            ") | 25000 |\n",
            "| Yield | 0.0717 |\n",
            "| Total Assets | 84447096 |\n",
            "| YTD Return | 0.0050204997 |\n",
            "| Beta (3 Year) | 0.0 |\n",
            "\n",
            "--------------------------------------------------\n",
            "\n",
            "| Field | Value |\n",
            "|---|---|\n",
            "| Ticker | NDX |\n",
            "\n",
            "| Open | 16649.86914\n",
            "1 |\n",
            "| High | 16649.869141 |\n",
            "| Low | 16649.8\n",
            "69141 |\n",
            "| Close | 16649.869141 |\n",
            "| Volume | 0 |\n",
            "\n",
            "| 52-Week Low | 11295.67 |\n",
            "| 52-Week High | 16906.8 |\n",
            "| 50-Day Average | 16\n",
            "090.701 |\n",
            "| 200-Day Average | 14866.054 |\n"
          ]
        }
      ]
    }
  ],
  "metadata": {
    "kernelspec": {
      "display_name": "Python 3",
      "language": "python",
      "name": "python3"
    },
    "language_info": {
      "codemirror_mode": {
        "name": "ipython",
        "version": 3
      },
      "file_extension": ".py",
      "mimetype": "text/x-python",
      "name": "python",
      "nbconvert_exporter": "python",
      "pygments_lexer": "ipython3",
      "version": "3.10.10"
    },
    "colab": {
      "provenance": [],
      "toc_visible": true
    }
  },
  "nbformat": 4,
  "nbformat_minor": 5
}